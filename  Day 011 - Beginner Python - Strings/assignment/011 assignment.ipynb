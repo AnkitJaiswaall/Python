{
 "cells": [
  {
   "cell_type": "markdown",
   "id": "0e2bf9ee",
   "metadata": {},
   "source": [
    "# first-occurrence-of-word"
   ]
  },
  {
   "cell_type": "code",
   "execution_count": 53,
   "id": "af060872",
   "metadata": {},
   "outputs": [],
   "source": [
    "def first(a,b):\n",
    "    l=len(a)\n",
    "    m=len(b)\n",
    "    for i in range(0,l):\n",
    "        flag=True\n",
    "        for j in range(0,m):\n",
    "            if(b[j]!=a[i+j]):\n",
    "                flag=False\n",
    "                break\n",
    "        if flag==True:\n",
    "            return i+1\n",
    "              \n",
    "    return -1    "
   ]
  },
  {
   "cell_type": "code",
   "execution_count": 55,
   "id": "134eecc7",
   "metadata": {},
   "outputs": [
    {
     "data": {
      "text/plain": [
       "3"
      ]
     },
     "execution_count": 55,
     "metadata": {},
     "output_type": "execute_result"
    }
   ],
   "source": [
    "first(\"aabababaa\",\"ba\")"
   ]
  },
  {
   "cell_type": "code",
   "execution_count": 56,
   "id": "c3a3754b",
   "metadata": {},
   "outputs": [
    {
     "data": {
      "text/plain": [
       "-1"
      ]
     },
     "execution_count": 56,
     "metadata": {},
     "output_type": "execute_result"
    }
   ],
   "source": [
    "first(\"abc\",\"ac\")"
   ]
  },
  {
   "cell_type": "code",
   "execution_count": null,
   "id": "145dc921",
   "metadata": {},
   "outputs": [],
   "source": []
  },
  {
   "cell_type": "markdown",
   "id": "84d9b98a",
   "metadata": {},
   "source": [
    "# reverse-string-ii"
   ]
  },
  {
   "cell_type": "code",
   "execution_count": 73,
   "id": "2aaeb5e6",
   "metadata": {},
   "outputs": [],
   "source": [
    "def reverse(s):\n",
    "    a=s.split()\n",
    "    l=len(a)\n",
    "    b=\"\"\n",
    "    for i in range(0,l):\n",
    "        b=b+\" \"+a[i][::-1]\n",
    "    return b.lstrip()  "
   ]
  },
  {
   "cell_type": "code",
   "execution_count": 75,
   "id": "7c0b8cc9",
   "metadata": {},
   "outputs": [
    {
     "data": {
      "text/plain": [
       "'enoyrevE sevol atad ecneics'"
      ]
     },
     "execution_count": 75,
     "metadata": {},
     "output_type": "execute_result"
    }
   ],
   "source": [
    "reverse(\"Everyone loves data science\")"
   ]
  },
  {
   "cell_type": "code",
   "execution_count": 59,
   "id": "2935dc2c",
   "metadata": {},
   "outputs": [],
   "source": []
  },
  {
   "cell_type": "markdown",
   "id": "b0a485bb",
   "metadata": {},
   "source": [
    "# reverse-words"
   ]
  },
  {
   "cell_type": "code",
   "execution_count": 86,
   "id": "fa824707",
   "metadata": {},
   "outputs": [],
   "source": [
    "def wreverse(w):\n",
    "    l=len(w)\n",
    "    s=\"\"\n",
    "    for i in range(l-1,-1,-1):\n",
    "        s=s+w[i]\n",
    "    return s    "
   ]
  },
  {
   "cell_type": "code",
   "execution_count": 87,
   "id": "814a9a18",
   "metadata": {},
   "outputs": [
    {
     "data": {
      "text/plain": [
       "'tikna'"
      ]
     },
     "execution_count": 87,
     "metadata": {},
     "output_type": "execute_result"
    }
   ],
   "source": [
    "wreverse(\"ankit\")"
   ]
  },
  {
   "cell_type": "code",
   "execution_count": null,
   "id": "ec6f8ea7",
   "metadata": {},
   "outputs": [],
   "source": []
  },
  {
   "cell_type": "code",
   "execution_count": null,
   "id": "e429e011",
   "metadata": {},
   "outputs": [],
   "source": []
  },
  {
   "cell_type": "code",
   "execution_count": null,
   "id": "fc570f34",
   "metadata": {},
   "outputs": [],
   "source": []
  },
  {
   "cell_type": "code",
   "execution_count": null,
   "id": "ae4ce7de",
   "metadata": {},
   "outputs": [],
   "source": []
  },
  {
   "cell_type": "code",
   "execution_count": null,
   "id": "7157cf17",
   "metadata": {},
   "outputs": [],
   "source": []
  },
  {
   "cell_type": "code",
   "execution_count": null,
   "id": "9ac7d968",
   "metadata": {},
   "outputs": [],
   "source": []
  }
 ],
 "metadata": {
  "kernelspec": {
   "display_name": "Python 3 (ipykernel)",
   "language": "python",
   "name": "python3"
  },
  "language_info": {
   "codemirror_mode": {
    "name": "ipython",
    "version": 3
   },
   "file_extension": ".py",
   "mimetype": "text/x-python",
   "name": "python",
   "nbconvert_exporter": "python",
   "pygments_lexer": "ipython3",
   "version": "3.9.7"
  }
 },
 "nbformat": 4,
 "nbformat_minor": 5
}
