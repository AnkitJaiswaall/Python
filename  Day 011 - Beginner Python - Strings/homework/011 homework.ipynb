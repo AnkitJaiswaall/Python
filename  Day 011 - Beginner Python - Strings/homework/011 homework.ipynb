{
 "cells": [
  {
   "cell_type": "code",
   "execution_count": 33,
   "id": "9b5d6ae1",
   "metadata": {},
   "outputs": [],
   "source": [
    "def ispelindrome(s):\n",
    "    for j in range(0,len(s)//2):\n",
    "        if(s[j]!=s[len(s)-1-j]):\n",
    "            return 0\n",
    "    return 1    \n",
    "            \n",
    "                "
   ]
  },
  {
   "cell_type": "code",
   "execution_count": 34,
   "id": "bdf1df42",
   "metadata": {},
   "outputs": [
    {
     "data": {
      "text/plain": [
       "1"
      ]
     },
     "execution_count": 34,
     "metadata": {},
     "output_type": "execute_result"
    }
   ],
   "source": [
    "ispelindrome(\"abbbbbbba\")"
   ]
  },
  {
   "cell_type": "code",
   "execution_count": 35,
   "id": "10553f72",
   "metadata": {},
   "outputs": [
    {
     "data": {
      "text/plain": [
       "0"
      ]
     },
     "execution_count": 35,
     "metadata": {},
     "output_type": "execute_result"
    }
   ],
   "source": [
    "ispelindrome(\"sdt89ioijh\")"
   ]
  },
  {
   "cell_type": "code",
   "execution_count": null,
   "id": "22928e5e",
   "metadata": {},
   "outputs": [],
   "source": []
  },
  {
   "cell_type": "markdown",
   "id": "d92dfc4f",
   "metadata": {},
   "source": [
    "# length-of-string"
   ]
  },
  {
   "cell_type": "code",
   "execution_count": 36,
   "id": "0d99c340",
   "metadata": {},
   "outputs": [],
   "source": [
    "def length(s):\n",
    "    count=0\n",
    "    for i in s:\n",
    "        count+=1\n",
    "    return count    "
   ]
  },
  {
   "cell_type": "code",
   "execution_count": 37,
   "id": "7ca1bbb0",
   "metadata": {},
   "outputs": [
    {
     "data": {
      "text/plain": [
       "5"
      ]
     },
     "execution_count": 37,
     "metadata": {},
     "output_type": "execute_result"
    }
   ],
   "source": [
    "length(\"ankit\")"
   ]
  },
  {
   "cell_type": "code",
   "execution_count": null,
   "id": "87ffbb17",
   "metadata": {},
   "outputs": [],
   "source": []
  },
  {
   "cell_type": "markdown",
   "id": "4c389005",
   "metadata": {},
   "source": [
    "# vowels-vs-consonants"
   ]
  },
  {
   "cell_type": "code",
   "execution_count": 52,
   "id": "a18e37e5",
   "metadata": {},
   "outputs": [],
   "source": [
    "def vc(s):\n",
    "    v=0\n",
    "    c=0\n",
    "    for i in s:\n",
    "        o=ord(i)\n",
    "        if o==32:\n",
    "            v+=0\n",
    "            c+=0\n",
    "        if(o==97 or o==101 or o==105 or o==111 or o==117):\n",
    "            v+=1\n",
    "        else:\n",
    "            c+=1\n",
    "    return [v,c]"
   ]
  },
  {
   "cell_type": "code",
   "execution_count": 53,
   "id": "cdcccbbc",
   "metadata": {},
   "outputs": [
    {
     "data": {
      "text/plain": [
       "[2, 3]"
      ]
     },
     "execution_count": 53,
     "metadata": {},
     "output_type": "execute_result"
    }
   ],
   "source": [
    "vc(\"ankit\")"
   ]
  },
  {
   "cell_type": "code",
   "execution_count": 54,
   "id": "7ecdfe3c",
   "metadata": {},
   "outputs": [
    {
     "data": {
      "text/plain": [
       "[5, 8]"
      ]
     },
     "execution_count": 54,
     "metadata": {},
     "output_type": "execute_result"
    }
   ],
   "source": [
    "vc(\"ankit jaiswal\")"
   ]
  },
  {
   "cell_type": "code",
   "execution_count": 55,
   "id": "64689c4f",
   "metadata": {},
   "outputs": [
    {
     "data": {
      "text/plain": [
       "13"
      ]
     },
     "execution_count": 55,
     "metadata": {},
     "output_type": "execute_result"
    }
   ],
   "source": [
    "len(\"ankit jaiswal\")"
   ]
  },
  {
   "cell_type": "code",
   "execution_count": 61,
   "id": "1e8602cb",
   "metadata": {},
   "outputs": [
    {
     "name": "stdout",
     "output_type": "stream",
     "text": [
      "97\n",
      "110\n",
      "107\n",
      "105\n",
      "116\n",
      "32\n",
      "106\n",
      "97\n",
      "105\n",
      "115\n",
      "119\n",
      "97\n",
      "108\n"
     ]
    }
   ],
   "source": [
    "for i in \"ankit jaiswal\":\n",
    "    print(ord(i))"
   ]
  },
  {
   "cell_type": "code",
   "execution_count": null,
   "id": "90e3d689",
   "metadata": {},
   "outputs": [],
   "source": []
  }
 ],
 "metadata": {
  "kernelspec": {
   "display_name": "Python 3 (ipykernel)",
   "language": "python",
   "name": "python3"
  },
  "language_info": {
   "codemirror_mode": {
    "name": "ipython",
    "version": 3
   },
   "file_extension": ".py",
   "mimetype": "text/x-python",
   "name": "python",
   "nbconvert_exporter": "python",
   "pygments_lexer": "ipython3",
   "version": "3.9.7"
  }
 },
 "nbformat": 4,
 "nbformat_minor": 5
}
