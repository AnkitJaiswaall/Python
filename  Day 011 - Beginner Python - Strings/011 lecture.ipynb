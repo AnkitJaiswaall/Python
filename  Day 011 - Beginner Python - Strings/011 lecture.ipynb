{
 "cells": [
  {
   "cell_type": "markdown",
   "id": "a800210a",
   "metadata": {},
   "source": [
    "# function kwargs\n",
    "keyword arguments"
   ]
  },
  {
   "cell_type": "code",
   "execution_count": 3,
   "id": "5ba555fd",
   "metadata": {},
   "outputs": [],
   "source": [
    "def details(name,age,profession,**kwargs):\n",
    "    print(name, age, profession)\n",
    "    print(kwargs)"
   ]
  },
  {
   "cell_type": "code",
   "execution_count": 4,
   "id": "ecf0bac5",
   "metadata": {},
   "outputs": [
    {
     "name": "stdout",
     "output_type": "stream",
     "text": [
      "ankit 25 SDE\n",
      "{'city': 'Kanpur', 'technology': 'MERN'}\n"
     ]
    }
   ],
   "source": [
    "details(\"ankit\",25,\"SDE\",city=\"Kanpur\",technology=\"MERN\")"
   ]
  },
  {
   "cell_type": "code",
   "execution_count": 5,
   "id": "2eaf1598",
   "metadata": {},
   "outputs": [],
   "source": [
    "def names(name1,name2,name3,*args,**kwargs):\n",
    "    print(name1, name2, name3)\n",
    "    print(args)\n",
    "    print(kwargs)"
   ]
  },
  {
   "cell_type": "code",
   "execution_count": 6,
   "id": "4ad12e85",
   "metadata": {},
   "outputs": [
    {
     "name": "stdout",
     "output_type": "stream",
     "text": [
      "abc rdd qwe\n",
      "('wd', 'aasd', 'wedf', 'wef')\n",
      "{'city': 'ef', 'place': 'wedfv'}\n"
     ]
    }
   ],
   "source": [
    "names(\"abc\",\"rdd\",\"qwe\",\"wd\",\"aasd\",\"wedf\",\"wef\",city=\"ef\",place=\"wedfv\")"
   ]
  },
  {
   "cell_type": "code",
   "execution_count": null,
   "id": "5f444fe2",
   "metadata": {},
   "outputs": [],
   "source": []
  },
  {
   "cell_type": "markdown",
   "id": "96441c91",
   "metadata": {},
   "source": [
    "# String"
   ]
  },
  {
   "cell_type": "markdown",
   "id": "9691cbac",
   "metadata": {},
   "source": [
    "# Initialisation and indexing"
   ]
  },
  {
   "cell_type": "code",
   "execution_count": 7,
   "id": "f26495e7",
   "metadata": {},
   "outputs": [],
   "source": [
    "books='djiewubfcjkneiodc wjkdchveyufjk'"
   ]
  },
  {
   "cell_type": "code",
   "execution_count": 8,
   "id": "594bcf07",
   "metadata": {},
   "outputs": [
    {
     "name": "stdout",
     "output_type": "stream",
     "text": [
      "djiewubfcjkneiodc wjkdchveyufjk\n"
     ]
    }
   ],
   "source": [
    "print(books)"
   ]
  },
  {
   "cell_type": "code",
   "execution_count": 9,
   "id": "5fb6a9c4",
   "metadata": {},
   "outputs": [],
   "source": [
    "books='''sdkfuyeruifhewoi\n",
    "ksdjcbdkuyfhewiubhksdw wdhfeuyfwhie\n",
    "wuqidhewuifieih \n",
    "dde7wuidh3ueydefwbh\n",
    "'''"
   ]
  },
  {
   "cell_type": "code",
   "execution_count": 10,
   "id": "6f9e3635",
   "metadata": {},
   "outputs": [
    {
     "name": "stdout",
     "output_type": "stream",
     "text": [
      "sdkfuyeruifhewoi\n",
      "ksdjcbdkuyfhewiubhksdw wdhfeuyfwhie\n",
      "wuqidhewuifieih \n",
      "dde7wuidh3ueydefwbh\n",
      "\n"
     ]
    }
   ],
   "source": [
    "print(books)"
   ]
  },
  {
   "cell_type": "code",
   "execution_count": 11,
   "id": "44dd5544",
   "metadata": {},
   "outputs": [],
   "source": [
    "book=\"data science\""
   ]
  },
  {
   "cell_type": "code",
   "execution_count": 14,
   "id": "11fc1730",
   "metadata": {},
   "outputs": [
    {
     "name": "stdout",
     "output_type": "stream",
     "text": [
      "i\n"
     ]
    }
   ],
   "source": [
    "print(book[7])"
   ]
  },
  {
   "cell_type": "code",
   "execution_count": 15,
   "id": "3d89bf1e",
   "metadata": {},
   "outputs": [
    {
     "data": {
      "text/plain": [
       "12"
      ]
     },
     "execution_count": 15,
     "metadata": {},
     "output_type": "execute_result"
    }
   ],
   "source": [
    "len(book)"
   ]
  },
  {
   "cell_type": "code",
   "execution_count": null,
   "id": "3dcdb1fb",
   "metadata": {},
   "outputs": [],
   "source": []
  },
  {
   "cell_type": "markdown",
   "id": "c55ba9a6",
   "metadata": {},
   "source": [
    "# mutable or immutable\n",
    "in python strings are immutable"
   ]
  },
  {
   "cell_type": "code",
   "execution_count": 31,
   "id": "b9eb2b85",
   "metadata": {},
   "outputs": [
    {
     "name": "stdout",
     "output_type": "stream",
     "text": [
      "140338060858224\n",
      "140338117939248\n"
     ]
    }
   ],
   "source": [
    "a=\"abc\"\n",
    "print(id(a))\n",
    "a=\"asdfghj\"\n",
    "print(id(a))"
   ]
  },
  {
   "cell_type": "markdown",
   "id": "bca30d32",
   "metadata": {},
   "source": [
    "# concatination: +"
   ]
  },
  {
   "cell_type": "code",
   "execution_count": 27,
   "id": "bc6d8c67",
   "metadata": {},
   "outputs": [],
   "source": [
    "name=\"Ankit \"\n",
    "surName=\"Jaiswal\"\n",
    "fullname=name+surName+\" Data Scientist \"+str(1)"
   ]
  },
  {
   "cell_type": "code",
   "execution_count": 28,
   "id": "8fd315cc",
   "metadata": {},
   "outputs": [
    {
     "name": "stdout",
     "output_type": "stream",
     "text": [
      "Ankit Jaiswal Data Scientist 1\n"
     ]
    }
   ],
   "source": [
    "print(fullname)"
   ]
  },
  {
   "cell_type": "code",
   "execution_count": null,
   "id": "0ffe2915",
   "metadata": {},
   "outputs": [],
   "source": []
  },
  {
   "cell_type": "markdown",
   "id": "5d387050",
   "metadata": {},
   "source": [
    "# Repetition: *"
   ]
  },
  {
   "cell_type": "code",
   "execution_count": 34,
   "id": "83c22aa9",
   "metadata": {},
   "outputs": [],
   "source": [
    "hello=\"Hello world \"\n",
    "s=hello*5"
   ]
  },
  {
   "cell_type": "code",
   "execution_count": 35,
   "id": "56bc5cdb",
   "metadata": {},
   "outputs": [
    {
     "name": "stdout",
     "output_type": "stream",
     "text": [
      "Hello world Hello world Hello world Hello world Hello world \n"
     ]
    }
   ],
   "source": [
    "print(s)"
   ]
  },
  {
   "cell_type": "code",
   "execution_count": null,
   "id": "71110be5",
   "metadata": {},
   "outputs": [],
   "source": []
  },
  {
   "cell_type": "markdown",
   "id": "f61cf478",
   "metadata": {},
   "source": [
    "# in operator"
   ]
  },
  {
   "cell_type": "code",
   "execution_count": 39,
   "id": "2a94bd21",
   "metadata": {},
   "outputs": [],
   "source": [
    "name=\"ankit Jaiswal\""
   ]
  },
  {
   "cell_type": "code",
   "execution_count": 40,
   "id": "bdd19ea7",
   "metadata": {},
   "outputs": [
    {
     "name": "stdout",
     "output_type": "stream",
     "text": [
      "yes\n"
     ]
    }
   ],
   "source": [
    "if(\"ankit\" in name):\n",
    "    print(\"yes\")\n",
    "else:\n",
    "    print(\"no\")"
   ]
  },
  {
   "cell_type": "code",
   "execution_count": null,
   "id": "2d3a6982",
   "metadata": {},
   "outputs": [],
   "source": []
  },
  {
   "cell_type": "markdown",
   "id": "1fa35b5f",
   "metadata": {},
   "source": [
    "# .count( )"
   ]
  },
  {
   "cell_type": "code",
   "execution_count": 42,
   "id": "34b689c1",
   "metadata": {},
   "outputs": [
    {
     "data": {
      "text/plain": [
       "3"
      ]
     },
     "execution_count": 42,
     "metadata": {},
     "output_type": "execute_result"
    }
   ],
   "source": [
    "name.count(\"a\")"
   ]
  },
  {
   "cell_type": "code",
   "execution_count": null,
   "id": "2e76a86b",
   "metadata": {},
   "outputs": [],
   "source": []
  },
  {
   "cell_type": "markdown",
   "id": "059f2334",
   "metadata": {},
   "source": [
    "# .find( )"
   ]
  },
  {
   "cell_type": "code",
   "execution_count": 44,
   "id": "227966a8",
   "metadata": {},
   "outputs": [
    {
     "data": {
      "text/plain": [
       "6"
      ]
     },
     "execution_count": 44,
     "metadata": {},
     "output_type": "execute_result"
    }
   ],
   "source": [
    "name=\"ankit jaiswal\"\n",
    "name.find(\"j\")\n",
    "# it gives the index"
   ]
  },
  {
   "cell_type": "code",
   "execution_count": null,
   "id": "8dddd8c4",
   "metadata": {},
   "outputs": [],
   "source": []
  },
  {
   "cell_type": "markdown",
   "id": "d656ec54",
   "metadata": {},
   "source": [
    "# .replace( )"
   ]
  },
  {
   "cell_type": "code",
   "execution_count": 56,
   "id": "07b1ebd9",
   "metadata": {},
   "outputs": [],
   "source": [
    "text=\"Python is amazing\""
   ]
  },
  {
   "cell_type": "code",
   "execution_count": 57,
   "id": "e7d08928",
   "metadata": {},
   "outputs": [
    {
     "data": {
      "text/plain": [
       "'Python is amazing'"
      ]
     },
     "execution_count": 57,
     "metadata": {},
     "output_type": "execute_result"
    }
   ],
   "source": [
    "text"
   ]
  },
  {
   "cell_type": "code",
   "execution_count": 58,
   "id": "17fd25bf",
   "metadata": {},
   "outputs": [],
   "source": [
    "new_text=text.replace('amazing','awesome')"
   ]
  },
  {
   "cell_type": "code",
   "execution_count": 59,
   "id": "32198557",
   "metadata": {},
   "outputs": [
    {
     "data": {
      "text/plain": [
       "'Python is awesome'"
      ]
     },
     "execution_count": 59,
     "metadata": {},
     "output_type": "execute_result"
    }
   ],
   "source": [
    "new_text"
   ]
  },
  {
   "cell_type": "code",
   "execution_count": 60,
   "id": "da34ba44",
   "metadata": {},
   "outputs": [
    {
     "data": {
      "text/plain": [
       "'Python is amazing'"
      ]
     },
     "execution_count": 60,
     "metadata": {},
     "output_type": "execute_result"
    }
   ],
   "source": [
    "text"
   ]
  },
  {
   "cell_type": "code",
   "execution_count": 61,
   "id": "111c1503",
   "metadata": {},
   "outputs": [],
   "source": [
    "new_text2=text.replace('i','x')"
   ]
  },
  {
   "cell_type": "code",
   "execution_count": 62,
   "id": "24381f53",
   "metadata": {},
   "outputs": [
    {
     "data": {
      "text/plain": [
       "'Python xs amazxng'"
      ]
     },
     "execution_count": 62,
     "metadata": {},
     "output_type": "execute_result"
    }
   ],
   "source": [
    "new_text2"
   ]
  },
  {
   "cell_type": "code",
   "execution_count": 67,
   "id": "40db6a70",
   "metadata": {},
   "outputs": [
    {
     "data": {
      "text/plain": [
       "'Software developer'"
      ]
     },
     "execution_count": 67,
     "metadata": {},
     "output_type": "execute_result"
    }
   ],
   "source": [
    "\"Software engineer\".replace(\"engineer\",\"developer\")"
   ]
  },
  {
   "cell_type": "markdown",
   "id": "61d9cfc7",
   "metadata": {},
   "source": [
    "# .lower( ), .upper( )"
   ]
  },
  {
   "cell_type": "code",
   "execution_count": 63,
   "id": "56447c07",
   "metadata": {},
   "outputs": [],
   "source": [
    "lower=text.lower()"
   ]
  },
  {
   "cell_type": "code",
   "execution_count": 64,
   "id": "6953471c",
   "metadata": {},
   "outputs": [
    {
     "data": {
      "text/plain": [
       "'python is amazing'"
      ]
     },
     "execution_count": 64,
     "metadata": {},
     "output_type": "execute_result"
    }
   ],
   "source": [
    "lower"
   ]
  },
  {
   "cell_type": "code",
   "execution_count": 65,
   "id": "dd5c0e1d",
   "metadata": {},
   "outputs": [],
   "source": [
    "upper=text.upper()"
   ]
  },
  {
   "cell_type": "code",
   "execution_count": 66,
   "id": "45992bc4",
   "metadata": {},
   "outputs": [
    {
     "data": {
      "text/plain": [
       "'PYTHON IS AMAZING'"
      ]
     },
     "execution_count": 66,
     "metadata": {},
     "output_type": "execute_result"
    }
   ],
   "source": [
    "upper"
   ]
  },
  {
   "cell_type": "code",
   "execution_count": null,
   "id": "b3608696",
   "metadata": {},
   "outputs": [],
   "source": []
  },
  {
   "cell_type": "markdown",
   "id": "7dc21341",
   "metadata": {},
   "source": [
    "# looping over string"
   ]
  },
  {
   "cell_type": "code",
   "execution_count": 68,
   "id": "bb3d1b56",
   "metadata": {},
   "outputs": [],
   "source": [
    "book=\"data science\""
   ]
  },
  {
   "cell_type": "code",
   "execution_count": 70,
   "id": "5e3ceebc",
   "metadata": {},
   "outputs": [
    {
     "name": "stdout",
     "output_type": "stream",
     "text": [
      "d/a/t/a/ /s/c/i/e/n/c/e/"
     ]
    }
   ],
   "source": [
    "for char in book:\n",
    "    print(char, end=\"/\")"
   ]
  },
  {
   "cell_type": "code",
   "execution_count": 71,
   "id": "8588c273",
   "metadata": {},
   "outputs": [],
   "source": [
    "book=\"data structure\""
   ]
  },
  {
   "cell_type": "code",
   "execution_count": 72,
   "id": "c08bd5fe",
   "metadata": {},
   "outputs": [],
   "source": [
    "del book"
   ]
  },
  {
   "cell_type": "code",
   "execution_count": 73,
   "id": "24e2ccc0",
   "metadata": {},
   "outputs": [
    {
     "ename": "NameError",
     "evalue": "name 'book' is not defined",
     "output_type": "error",
     "traceback": [
      "\u001b[0;31m---------------------------------------------------------------------------\u001b[0m",
      "\u001b[0;31mNameError\u001b[0m                                 Traceback (most recent call last)",
      "\u001b[0;32m/var/folders/h9/8nmv6v9j12b30k1ktj1fvl_00000gn/T/ipykernel_10024/1153044440.py\u001b[0m in \u001b[0;36m<module>\u001b[0;34m\u001b[0m\n\u001b[0;32m----> 1\u001b[0;31m \u001b[0mprint\u001b[0m\u001b[0;34m(\u001b[0m\u001b[0mbook\u001b[0m\u001b[0;34m)\u001b[0m\u001b[0;34m\u001b[0m\u001b[0;34m\u001b[0m\u001b[0m\n\u001b[0m",
      "\u001b[0;31mNameError\u001b[0m: name 'book' is not defined"
     ]
    }
   ],
   "source": [
    "print(book)"
   ]
  },
  {
   "cell_type": "code",
   "execution_count": null,
   "id": "f8b231bb",
   "metadata": {},
   "outputs": [],
   "source": []
  },
  {
   "cell_type": "markdown",
   "id": "9f1e398f",
   "metadata": {},
   "source": [
    "# ord function\n",
    "it gives the ascii value for any character"
   ]
  },
  {
   "cell_type": "code",
   "execution_count": 74,
   "id": "20c65c6d",
   "metadata": {},
   "outputs": [
    {
     "data": {
      "text/plain": [
       "97"
      ]
     },
     "execution_count": 74,
     "metadata": {},
     "output_type": "execute_result"
    }
   ],
   "source": [
    "ord(\"a\")"
   ]
  },
  {
   "cell_type": "code",
   "execution_count": 76,
   "id": "b26e46fe",
   "metadata": {},
   "outputs": [
    {
     "data": {
      "text/plain": [
       "65"
      ]
     },
     "execution_count": 76,
     "metadata": {},
     "output_type": "execute_result"
    }
   ],
   "source": [
    "ord(\"A\")"
   ]
  },
  {
   "cell_type": "code",
   "execution_count": 77,
   "id": "cccba31b",
   "metadata": {},
   "outputs": [
    {
     "data": {
      "text/plain": [
       "'A'"
      ]
     },
     "execution_count": 77,
     "metadata": {},
     "output_type": "execute_result"
    }
   ],
   "source": [
    "chr(65)"
   ]
  },
  {
   "cell_type": "code",
   "execution_count": null,
   "id": "c507ac8d",
   "metadata": {},
   "outputs": [],
   "source": []
  },
  {
   "cell_type": "markdown",
   "id": "17c8f530",
   "metadata": {},
   "source": [
    "# strip function"
   ]
  },
  {
   "cell_type": "code",
   "execution_count": 78,
   "id": "1cb016f8",
   "metadata": {},
   "outputs": [],
   "source": [
    "s=\"            hello world             \""
   ]
  },
  {
   "cell_type": "code",
   "execution_count": 79,
   "id": "946244af",
   "metadata": {},
   "outputs": [
    {
     "data": {
      "text/plain": [
       "'            hello world             '"
      ]
     },
     "execution_count": 79,
     "metadata": {},
     "output_type": "execute_result"
    }
   ],
   "source": [
    "s"
   ]
  },
  {
   "cell_type": "code",
   "execution_count": 80,
   "id": "dd76f38c",
   "metadata": {},
   "outputs": [
    {
     "data": {
      "text/plain": [
       "'hello world             '"
      ]
     },
     "execution_count": 80,
     "metadata": {},
     "output_type": "execute_result"
    }
   ],
   "source": [
    "s.lstrip()"
   ]
  },
  {
   "cell_type": "code",
   "execution_count": 81,
   "id": "80a36c99",
   "metadata": {},
   "outputs": [
    {
     "data": {
      "text/plain": [
       "'            hello world'"
      ]
     },
     "execution_count": 81,
     "metadata": {},
     "output_type": "execute_result"
    }
   ],
   "source": [
    "s.rstrip()"
   ]
  },
  {
   "cell_type": "code",
   "execution_count": 82,
   "id": "0a602e57",
   "metadata": {},
   "outputs": [
    {
     "data": {
      "text/plain": [
       "'hello world'"
      ]
     },
     "execution_count": 82,
     "metadata": {},
     "output_type": "execute_result"
    }
   ],
   "source": [
    "s.strip()"
   ]
  },
  {
   "cell_type": "code",
   "execution_count": null,
   "id": "39c55952",
   "metadata": {},
   "outputs": [],
   "source": []
  },
  {
   "cell_type": "markdown",
   "id": "3713fbc0",
   "metadata": {},
   "source": [
    "# reverse order of word"
   ]
  },
  {
   "cell_type": "code",
   "execution_count": 102,
   "id": "ff651dd7",
   "metadata": {},
   "outputs": [],
   "source": [
    "book=\"Data science machine learning\""
   ]
  },
  {
   "cell_type": "code",
   "execution_count": 103,
   "id": "3ba7f315",
   "metadata": {},
   "outputs": [],
   "source": [
    "l=book.split()"
   ]
  },
  {
   "cell_type": "code",
   "execution_count": 104,
   "id": "04fbb8f2",
   "metadata": {},
   "outputs": [
    {
     "data": {
      "text/plain": [
       "['Data', 'science', 'machine', 'learning']"
      ]
     },
     "execution_count": 104,
     "metadata": {},
     "output_type": "execute_result"
    }
   ],
   "source": [
    "l"
   ]
  },
  {
   "cell_type": "code",
   "execution_count": 105,
   "id": "512bdbcb",
   "metadata": {},
   "outputs": [
    {
     "data": {
      "text/plain": [
       "'Data%science%machine%learning'"
      ]
     },
     "execution_count": 105,
     "metadata": {},
     "output_type": "execute_result"
    }
   ],
   "source": [
    "\"%\".join(l)"
   ]
  },
  {
   "cell_type": "code",
   "execution_count": 106,
   "id": "8ba1bfd6",
   "metadata": {},
   "outputs": [],
   "source": [
    "l=l[::-1]"
   ]
  },
  {
   "cell_type": "code",
   "execution_count": 107,
   "id": "f1648fe3",
   "metadata": {},
   "outputs": [
    {
     "data": {
      "text/plain": [
       "['learning', 'machine', 'science', 'Data']"
      ]
     },
     "execution_count": 107,
     "metadata": {},
     "output_type": "execute_result"
    }
   ],
   "source": [
    "l"
   ]
  },
  {
   "cell_type": "code",
   "execution_count": 108,
   "id": "f39954ea",
   "metadata": {},
   "outputs": [],
   "source": [
    "s=\" \".join(l)"
   ]
  },
  {
   "cell_type": "code",
   "execution_count": 109,
   "id": "78264ae4",
   "metadata": {},
   "outputs": [
    {
     "data": {
      "text/plain": [
       "'learning machine science Data'"
      ]
     },
     "execution_count": 109,
     "metadata": {},
     "output_type": "execute_result"
    }
   ],
   "source": [
    "s"
   ]
  },
  {
   "cell_type": "code",
   "execution_count": null,
   "id": "981c8f83",
   "metadata": {},
   "outputs": [],
   "source": []
  },
  {
   "cell_type": "markdown",
   "id": "a2b596c1",
   "metadata": {},
   "source": [
    "# Format string"
   ]
  },
  {
   "cell_type": "code",
   "execution_count": 111,
   "id": "cd06e5f1",
   "metadata": {},
   "outputs": [],
   "source": [
    "apple_count=4\n",
    "orange_count=8\n",
    "guava_count=10\n",
    "\n",
    "# generate a string \"I have 4 apple, 8 orange and 10 guava\""
   ]
  },
  {
   "cell_type": "code",
   "execution_count": 112,
   "id": "689fe69f",
   "metadata": {},
   "outputs": [],
   "source": [
    "s=\"I have \"+str(apple_count)+\" apple, \"+str(orange_count)+\" orange and \"+str(guava_count)+\" guava\""
   ]
  },
  {
   "cell_type": "code",
   "execution_count": 113,
   "id": "41d994c4",
   "metadata": {},
   "outputs": [
    {
     "data": {
      "text/plain": [
       "'I have 4 apple, 8 orange and 10 guava'"
      ]
     },
     "execution_count": 113,
     "metadata": {},
     "output_type": "execute_result"
    }
   ],
   "source": [
    "s"
   ]
  },
  {
   "cell_type": "code",
   "execution_count": 114,
   "id": "aaef2425",
   "metadata": {},
   "outputs": [],
   "source": [
    "s=f\"I have {apple_count} apple, {orange_count} orange and {guava_count} guava\""
   ]
  },
  {
   "cell_type": "code",
   "execution_count": 115,
   "id": "3e12c754",
   "metadata": {},
   "outputs": [
    {
     "data": {
      "text/plain": [
       "'I have 4 apple, 8 orange and 10 guava'"
      ]
     },
     "execution_count": 115,
     "metadata": {},
     "output_type": "execute_result"
    }
   ],
   "source": [
    "s"
   ]
  },
  {
   "cell_type": "code",
   "execution_count": 116,
   "id": "cd173961",
   "metadata": {},
   "outputs": [],
   "source": [
    "s=\"i have {} apple, {} orange and {} guava\".format(apple_count,orange_count,guava_count)"
   ]
  },
  {
   "cell_type": "code",
   "execution_count": 117,
   "id": "0a7b4d93",
   "metadata": {},
   "outputs": [
    {
     "data": {
      "text/plain": [
       "'i have 4 apple, 8 orange and 10 guava'"
      ]
     },
     "execution_count": 117,
     "metadata": {},
     "output_type": "execute_result"
    }
   ],
   "source": [
    "s"
   ]
  },
  {
   "cell_type": "code",
   "execution_count": 118,
   "id": "00f3430d",
   "metadata": {},
   "outputs": [],
   "source": [
    "s=\"i have {2} apple, {1} orange and {0} guava\".format(apple_count,orange_count,guava_count)"
   ]
  },
  {
   "cell_type": "code",
   "execution_count": 119,
   "id": "0a5adbc5",
   "metadata": {},
   "outputs": [
    {
     "data": {
      "text/plain": [
       "'i have 10 apple, 8 orange and 4 guava'"
      ]
     },
     "execution_count": 119,
     "metadata": {},
     "output_type": "execute_result"
    }
   ],
   "source": [
    "s"
   ]
  },
  {
   "cell_type": "code",
   "execution_count": null,
   "id": "d0bb1980",
   "metadata": {},
   "outputs": [],
   "source": []
  },
  {
   "cell_type": "markdown",
   "id": "5cb0fb01",
   "metadata": {},
   "source": [
    "# Docstrings"
   ]
  },
  {
   "cell_type": "code",
   "execution_count": 120,
   "id": "63b3fb2a",
   "metadata": {},
   "outputs": [],
   "source": [
    "def square(x):\n",
    "    '''\n",
    "    it will return the square of number\n",
    "    '''\n",
    "    return x**2"
   ]
  },
  {
   "cell_type": "code",
   "execution_count": 121,
   "id": "c98ccd75",
   "metadata": {},
   "outputs": [],
   "source": [
    "square?"
   ]
  },
  {
   "cell_type": "code",
   "execution_count": 122,
   "id": "4c32b3a5",
   "metadata": {},
   "outputs": [
    {
     "data": {
      "text/plain": [
       "49"
      ]
     },
     "execution_count": 122,
     "metadata": {},
     "output_type": "execute_result"
    }
   ],
   "source": [
    "square(7)"
   ]
  },
  {
   "cell_type": "code",
   "execution_count": null,
   "id": "2569a3a4",
   "metadata": {},
   "outputs": [],
   "source": []
  }
 ],
 "metadata": {
  "kernelspec": {
   "display_name": "Python 3 (ipykernel)",
   "language": "python",
   "name": "python3"
  },
  "language_info": {
   "codemirror_mode": {
    "name": "ipython",
    "version": 3
   },
   "file_extension": ".py",
   "mimetype": "text/x-python",
   "name": "python",
   "nbconvert_exporter": "python",
   "pygments_lexer": "ipython3",
   "version": "3.9.7"
  }
 },
 "nbformat": 4,
 "nbformat_minor": 5
}
