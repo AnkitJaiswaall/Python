{
 "cells": [
  {
   "cell_type": "markdown",
   "id": "59157e92",
   "metadata": {},
   "source": [
    "# binaery-to-decimal"
   ]
  },
  {
   "cell_type": "code",
   "execution_count": 17,
   "id": "ab7f8928",
   "metadata": {},
   "outputs": [
    {
     "name": "stdout",
     "output_type": "stream",
     "text": [
      "111\n"
     ]
    }
   ],
   "source": [
    "b=input()"
   ]
  },
  {
   "cell_type": "code",
   "execution_count": 18,
   "id": "4edf1a74",
   "metadata": {},
   "outputs": [
    {
     "name": "stdout",
     "output_type": "stream",
     "text": [
      "7\n"
     ]
    }
   ],
   "source": [
    "d=0\n",
    "q=len(b)\n",
    "p=q-1\n",
    "for i in b:\n",
    "    d=d+int(i)*2**(p)\n",
    "    p-=1\n",
    "print(d)    "
   ]
  },
  {
   "cell_type": "code",
   "execution_count": null,
   "id": "6793ba7f",
   "metadata": {},
   "outputs": [],
   "source": []
  },
  {
   "cell_type": "markdown",
   "id": "104355e6",
   "metadata": {},
   "source": [
    "# decimal-to-binary"
   ]
  },
  {
   "cell_type": "code",
   "execution_count": 59,
   "id": "628bd19b",
   "metadata": {},
   "outputs": [
    {
     "name": "stdout",
     "output_type": "stream",
     "text": [
      "14\n"
     ]
    }
   ],
   "source": [
    "d=int(input())\n"
   ]
  },
  {
   "cell_type": "code",
   "execution_count": 60,
   "id": "cc34780e",
   "metadata": {},
   "outputs": [
    {
     "name": "stdout",
     "output_type": "stream",
     "text": [
      "0111\n"
     ]
    }
   ],
   "source": [
    "b=\"\"\n",
    "while d>0:\n",
    "    b=b+str(d%2)\n",
    "    d=d//2\n",
    "print(b)    "
   ]
  },
  {
   "cell_type": "code",
   "execution_count": 61,
   "id": "8c4a4e35",
   "metadata": {},
   "outputs": [
    {
     "name": "stdout",
     "output_type": "stream",
     "text": [
      "1110\n"
     ]
    }
   ],
   "source": [
    "l=len(b)\n",
    "b=int(b)\n",
    "n=0\n",
    "for i in range(0,4):\n",
    "    n=n*10+b%10\n",
    "    b=b//10\n",
    "print(n)    \n",
    "    "
   ]
  },
  {
   "cell_type": "code",
   "execution_count": null,
   "id": "f698abed",
   "metadata": {},
   "outputs": [],
   "source": []
  }
 ],
 "metadata": {
  "kernelspec": {
   "display_name": "Python 3 (ipykernel)",
   "language": "python",
   "name": "python3"
  },
  "language_info": {
   "codemirror_mode": {
    "name": "ipython",
    "version": 3
   },
   "file_extension": ".py",
   "mimetype": "text/x-python",
   "name": "python",
   "nbconvert_exporter": "python",
   "pygments_lexer": "ipython3",
   "version": "3.9.7"
  }
 },
 "nbformat": 4,
 "nbformat_minor": 5
}
