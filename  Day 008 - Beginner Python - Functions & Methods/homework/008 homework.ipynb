{
 "cells": [
  {
   "cell_type": "markdown",
   "id": "e912ee96",
   "metadata": {},
   "source": [
    "# area-of-circle"
   ]
  },
  {
   "cell_type": "code",
   "execution_count": 3,
   "id": "655cb630",
   "metadata": {},
   "outputs": [],
   "source": [
    "import math"
   ]
  },
  {
   "cell_type": "code",
   "execution_count": 6,
   "id": "0fb6c494",
   "metadata": {},
   "outputs": [],
   "source": [
    "def areaOfCircle(r):\n",
    "    a=math.ceil(3.14*r**2)\n",
    "    return a"
   ]
  },
  {
   "cell_type": "code",
   "execution_count": 8,
   "id": "dbea1c4c",
   "metadata": {},
   "outputs": [
    {
     "data": {
      "text/plain": [
       "51"
      ]
     },
     "execution_count": 8,
     "metadata": {},
     "output_type": "execute_result"
    }
   ],
   "source": [
    "areaOfCircle(4)"
   ]
  },
  {
   "cell_type": "code",
   "execution_count": null,
   "id": "c31bea87",
   "metadata": {},
   "outputs": [],
   "source": []
  },
  {
   "cell_type": "markdown",
   "id": "e2e8be03",
   "metadata": {},
   "source": [
    "# find-factorial"
   ]
  },
  {
   "cell_type": "code",
   "execution_count": 16,
   "id": "8505a24e",
   "metadata": {},
   "outputs": [],
   "source": [
    "def factorial(n):\n",
    "    if(n==1):\n",
    "        return 1\n",
    "    else:\n",
    "        return(n*factorial(n-1))\n"
   ]
  },
  {
   "cell_type": "code",
   "execution_count": 17,
   "id": "ffb9d483",
   "metadata": {},
   "outputs": [
    {
     "data": {
      "text/plain": [
       "24"
      ]
     },
     "execution_count": 17,
     "metadata": {},
     "output_type": "execute_result"
    }
   ],
   "source": [
    "factorial(4)"
   ]
  },
  {
   "cell_type": "code",
   "execution_count": null,
   "id": "1fb674e1",
   "metadata": {},
   "outputs": [],
   "source": []
  },
  {
   "cell_type": "markdown",
   "id": "26daee10",
   "metadata": {},
   "source": [
    "# volume-of-sphere"
   ]
  },
  {
   "cell_type": "code",
   "execution_count": 18,
   "id": "c4876fee",
   "metadata": {},
   "outputs": [],
   "source": [
    "def volume(r):\n",
    "    v=math.ceil((4*3.14*r**3)/3)\n",
    "    return v"
   ]
  },
  {
   "cell_type": "code",
   "execution_count": 21,
   "id": "fd2f5c4b",
   "metadata": {},
   "outputs": [
    {
     "data": {
      "text/plain": [
       "268"
      ]
     },
     "execution_count": 21,
     "metadata": {},
     "output_type": "execute_result"
    }
   ],
   "source": [
    "volume(4)"
   ]
  },
  {
   "cell_type": "code",
   "execution_count": null,
   "id": "3c098bbd",
   "metadata": {},
   "outputs": [],
   "source": []
  },
  {
   "cell_type": "code",
   "execution_count": null,
   "id": "1f55ab2b",
   "metadata": {},
   "outputs": [],
   "source": []
  }
 ],
 "metadata": {
  "kernelspec": {
   "display_name": "Python 3 (ipykernel)",
   "language": "python",
   "name": "python3"
  },
  "language_info": {
   "codemirror_mode": {
    "name": "ipython",
    "version": 3
   },
   "file_extension": ".py",
   "mimetype": "text/x-python",
   "name": "python",
   "nbconvert_exporter": "python",
   "pygments_lexer": "ipython3",
   "version": "3.9.7"
  }
 },
 "nbformat": 4,
 "nbformat_minor": 5
}
