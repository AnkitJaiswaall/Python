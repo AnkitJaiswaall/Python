{
 "cells": [
  {
   "cell_type": "markdown",
   "id": "07316b43",
   "metadata": {},
   "source": [
    "# easy-power"
   ]
  },
  {
   "cell_type": "code",
   "execution_count": 5,
   "id": "b017f37c",
   "metadata": {},
   "outputs": [
    {
     "name": "stdout",
     "output_type": "stream",
     "text": [
      "10\n",
      "8\n"
     ]
    }
   ],
   "source": [
    "n=int(input())\n",
    "m=int(input())"
   ]
  },
  {
   "cell_type": "code",
   "execution_count": 6,
   "id": "044c25e1",
   "metadata": {},
   "outputs": [
    {
     "name": "stdout",
     "output_type": "stream",
     "text": [
      "100000000\n"
     ]
    }
   ],
   "source": [
    "print(n**m)"
   ]
  },
  {
   "cell_type": "code",
   "execution_count": null,
   "id": "5b64a0ff",
   "metadata": {},
   "outputs": [],
   "source": []
  },
  {
   "cell_type": "markdown",
   "id": "427c3d98",
   "metadata": {},
   "source": [
    "# number-of-days"
   ]
  },
  {
   "cell_type": "code",
   "execution_count": 22,
   "id": "b32b2e6c",
   "metadata": {},
   "outputs": [
    {
     "name": "stdout",
     "output_type": "stream",
     "text": [
      "4\n",
      "2022\n"
     ]
    }
   ],
   "source": [
    "A=int(input())\n",
    "B=int(input())"
   ]
  },
  {
   "cell_type": "code",
   "execution_count": 23,
   "id": "5adecfea",
   "metadata": {},
   "outputs": [
    {
     "name": "stdout",
     "output_type": "stream",
     "text": [
      "30\n"
     ]
    }
   ],
   "source": [
    "if(A==1 or A==3 or A==5 or A==7 or A==8 or A==10 or A==12):\n",
    "    print(31)\n",
    "elif(A==2 and B%4==0):\n",
    "    print(29)\n",
    "elif(A==2):\n",
    "    print(28)\n",
    "elif(A==4 or A==6 or A==9 or A==11):\n",
    "    print(30)\n",
    "else:\n",
    "    print(\"enter valid number\")"
   ]
  },
  {
   "cell_type": "code",
   "execution_count": null,
   "id": "247b2670",
   "metadata": {},
   "outputs": [],
   "source": []
  },
  {
   "cell_type": "markdown",
   "id": "ab5f70f1",
   "metadata": {},
   "source": [
    "# pelindromic-integer"
   ]
  },
  {
   "cell_type": "code",
   "execution_count": 85,
   "id": "af693e70",
   "metadata": {},
   "outputs": [
    {
     "name": "stdout",
     "output_type": "stream",
     "text": [
      "120\n"
     ]
    }
   ],
   "source": [
    "n=input()"
   ]
  },
  {
   "cell_type": "code",
   "execution_count": 86,
   "id": "17f93117",
   "metadata": {},
   "outputs": [
    {
     "name": "stdout",
     "output_type": "stream",
     "text": [
      "No\n"
     ]
    }
   ],
   "source": [
    "\n",
    "j=len(n)\n",
    "msg=\"Yes\"\n",
    "for i in range(1,j):\n",
    "    if(n[i]!=n[j-i-1]):\n",
    "        msg=\"No\"\n",
    "\n",
    "          \n",
    "print(msg)        \n",
    "        \n",
    "    \n"
   ]
  },
  {
   "cell_type": "code",
   "execution_count": null,
   "id": "eef56ff5",
   "metadata": {},
   "outputs": [],
   "source": []
  },
  {
   "cell_type": "markdown",
   "id": "bd8d0aa6",
   "metadata": {},
   "source": [
    "# percentage-and-grade"
   ]
  },
  {
   "cell_type": "code",
   "execution_count": 92,
   "id": "19c9a7d0",
   "metadata": {},
   "outputs": [
    {
     "name": "stdout",
     "output_type": "stream",
     "text": [
      "76\n",
      "67\n",
      "89\n",
      "54\n",
      "87\n"
     ]
    }
   ],
   "source": [
    "A=int(input())\n",
    "B=int(input())\n",
    "C=int(input())\n",
    "D=int(input())\n",
    "E=int(input())"
   ]
  },
  {
   "cell_type": "code",
   "execution_count": 93,
   "id": "21faf312",
   "metadata": {},
   "outputs": [
    {
     "name": "stdout",
     "output_type": "stream",
     "text": [
      "74\n",
      "C\n"
     ]
    }
   ],
   "source": [
    "sum=A+B+C+D+E\n",
    "p=(sum*100)//500\n",
    "if(p>=90):\n",
    "    print(p)\n",
    "    print(\"A\")\n",
    "elif(p>=80 and p<90):\n",
    "    print(p)\n",
    "    print(\"B\")\n",
    "elif(p>=70 and p<80):\n",
    "    print(p)\n",
    "    print(\"C\")\n",
    "elif(p>=60 and p<70):\n",
    "    print(p)\n",
    "    print(\"D\")\n",
    "elif(p>=40 and p<60):\n",
    "    print(p)\n",
    "    print(\"E\")\n",
    "else:\n",
    "    print(p)\n",
    "    print(\"F\")"
   ]
  },
  {
   "cell_type": "code",
   "execution_count": null,
   "id": "dd9177eb",
   "metadata": {},
   "outputs": [],
   "source": []
  },
  {
   "cell_type": "markdown",
   "id": "e11e7648",
   "metadata": {},
   "source": [
    "# vowel-or-consonant"
   ]
  },
  {
   "cell_type": "code",
   "execution_count": 96,
   "id": "3103477f",
   "metadata": {},
   "outputs": [
    {
     "name": "stdout",
     "output_type": "stream",
     "text": [
      "c\n"
     ]
    }
   ],
   "source": [
    "c=input()"
   ]
  },
  {
   "cell_type": "code",
   "execution_count": 97,
   "id": "b26c7d64",
   "metadata": {},
   "outputs": [
    {
     "name": "stdout",
     "output_type": "stream",
     "text": [
      "0\n"
     ]
    }
   ],
   "source": [
    "if(c==\"a\" or c==\"e\" or c==\"i\" or c==\"o\" or c==\"u\"):\n",
    "    print(1)\n",
    "else:\n",
    "    print(0)"
   ]
  },
  {
   "cell_type": "code",
   "execution_count": null,
   "id": "258a43cd",
   "metadata": {},
   "outputs": [],
   "source": []
  }
 ],
 "metadata": {
  "kernelspec": {
   "display_name": "Python 3 (ipykernel)",
   "language": "python",
   "name": "python3"
  },
  "language_info": {
   "codemirror_mode": {
    "name": "ipython",
    "version": 3
   },
   "file_extension": ".py",
   "mimetype": "text/x-python",
   "name": "python",
   "nbconvert_exporter": "python",
   "pygments_lexer": "ipython3",
   "version": "3.9.7"
  }
 },
 "nbformat": 4,
 "nbformat_minor": 5
}
