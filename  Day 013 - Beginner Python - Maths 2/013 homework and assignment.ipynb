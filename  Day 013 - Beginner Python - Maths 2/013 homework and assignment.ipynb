{
 "cells": [
  {
   "cell_type": "markdown",
   "id": "b9838363",
   "metadata": {},
   "source": [
    "# fibonacci-number"
   ]
  },
  {
   "cell_type": "code",
   "execution_count": 12,
   "id": "77ba7648",
   "metadata": {},
   "outputs": [],
   "source": [
    "def fibo(n):\n",
    "    if(n==0):\n",
    "        return 0\n",
    "    elif(n==1):\n",
    "        return 1\n",
    "    return fibo(n-1)+fibo(n-2)"
   ]
  },
  {
   "cell_type": "code",
   "execution_count": 13,
   "id": "403e99ff",
   "metadata": {},
   "outputs": [
    {
     "data": {
      "text/plain": [
       "3"
      ]
     },
     "execution_count": 13,
     "metadata": {},
     "output_type": "execute_result"
    }
   ],
   "source": [
    "fibo(4)"
   ]
  },
  {
   "cell_type": "code",
   "execution_count": 15,
   "id": "b7bf9ce2",
   "metadata": {},
   "outputs": [
    {
     "data": {
      "text/plain": [
       "8"
      ]
     },
     "execution_count": 15,
     "metadata": {},
     "output_type": "execute_result"
    }
   ],
   "source": [
    "fibo(6)"
   ]
  },
  {
   "cell_type": "code",
   "execution_count": null,
   "id": "ce334d36",
   "metadata": {},
   "outputs": [],
   "source": []
  },
  {
   "cell_type": "markdown",
   "id": "82a35140",
   "metadata": {},
   "source": [
    "# find-nth-fibonacci"
   ]
  },
  {
   "cell_type": "code",
   "execution_count": 16,
   "id": "3150ed66",
   "metadata": {},
   "outputs": [],
   "source": [
    "def nthfibo(n):\n",
    "    result=0\n",
    "    if n<=1:\n",
    "        return n\n",
    "    return result+fibo(n-1)+fibo(n-2)"
   ]
  },
  {
   "cell_type": "code",
   "execution_count": 17,
   "id": "589317ae",
   "metadata": {},
   "outputs": [
    {
     "data": {
      "text/plain": [
       "3"
      ]
     },
     "execution_count": 17,
     "metadata": {},
     "output_type": "execute_result"
    }
   ],
   "source": [
    "nthfibo(4)"
   ]
  },
  {
   "cell_type": "code",
   "execution_count": 18,
   "id": "3601278e",
   "metadata": {},
   "outputs": [
    {
     "data": {
      "text/plain": [
       "2"
      ]
     },
     "execution_count": 18,
     "metadata": {},
     "output_type": "execute_result"
    }
   ],
   "source": [
    "nthfibo(3)"
   ]
  },
  {
   "cell_type": "code",
   "execution_count": null,
   "id": "d0301dc3",
   "metadata": {},
   "outputs": [],
   "source": []
  },
  {
   "cell_type": "markdown",
   "id": "1fd06c63",
   "metadata": {},
   "source": [
    "# nth-term-of-ap"
   ]
  },
  {
   "cell_type": "code",
   "execution_count": 19,
   "id": "71119562",
   "metadata": {},
   "outputs": [],
   "source": [
    "def nthTermAp(a,b,c):\n",
    "    return a+(c-1)*b\n",
    "    "
   ]
  },
  {
   "cell_type": "code",
   "execution_count": 20,
   "id": "07fcfaa3",
   "metadata": {},
   "outputs": [
    {
     "data": {
      "text/plain": [
       "5"
      ]
     },
     "execution_count": 20,
     "metadata": {},
     "output_type": "execute_result"
    }
   ],
   "source": [
    "nthTermAp(1,1,5)"
   ]
  },
  {
   "cell_type": "code",
   "execution_count": 21,
   "id": "299a173f",
   "metadata": {},
   "outputs": [
    {
     "data": {
      "text/plain": [
       "-5"
      ]
     },
     "execution_count": 21,
     "metadata": {},
     "output_type": "execute_result"
    }
   ],
   "source": [
    "nthTermAp(7,-2,7)"
   ]
  },
  {
   "cell_type": "code",
   "execution_count": null,
   "id": "d0c44baf",
   "metadata": {},
   "outputs": [],
   "source": []
  },
  {
   "cell_type": "markdown",
   "id": "1c4d5d24",
   "metadata": {},
   "source": [
    "# trailing-zeros-in-factorial"
   ]
  },
  {
   "cell_type": "code",
   "execution_count": 28,
   "id": "bd3b5b22",
   "metadata": {},
   "outputs": [],
   "source": [
    "def trailingZero(n):\n",
    "    result=0\n",
    "    for i in range(1,n+1):\n",
    "        result+=n//5**i\n",
    "        n=n//5\n",
    "        return result\n",
    "        "
   ]
  },
  {
   "cell_type": "code",
   "execution_count": 29,
   "id": "e61766f9",
   "metadata": {},
   "outputs": [
    {
     "data": {
      "text/plain": [
       "1"
      ]
     },
     "execution_count": 29,
     "metadata": {},
     "output_type": "execute_result"
    }
   ],
   "source": [
    "trailingZero(5)"
   ]
  },
  {
   "cell_type": "code",
   "execution_count": 34,
   "id": "928ddbb4",
   "metadata": {},
   "outputs": [
    {
     "data": {
      "text/plain": [
       "4"
      ]
     },
     "execution_count": 34,
     "metadata": {},
     "output_type": "execute_result"
    }
   ],
   "source": [
    "trailingZero(20)"
   ]
  },
  {
   "cell_type": "code",
   "execution_count": 33,
   "id": "99198f3c",
   "metadata": {},
   "outputs": [
    {
     "data": {
      "text/plain": [
       "2432902008176640000"
      ]
     },
     "execution_count": 33,
     "metadata": {},
     "output_type": "execute_result"
    }
   ],
   "source": [
    "import math\n",
    "math.factorial(20)"
   ]
  },
  {
   "cell_type": "code",
   "execution_count": null,
   "id": "cbd76539",
   "metadata": {},
   "outputs": [],
   "source": []
  }
 ],
 "metadata": {
  "kernelspec": {
   "display_name": "Python 3 (ipykernel)",
   "language": "python",
   "name": "python3"
  },
  "language_info": {
   "codemirror_mode": {
    "name": "ipython",
    "version": 3
   },
   "file_extension": ".py",
   "mimetype": "text/x-python",
   "name": "python",
   "nbconvert_exporter": "python",
   "pygments_lexer": "ipython3",
   "version": "3.9.7"
  }
 },
 "nbformat": 4,
 "nbformat_minor": 5
}
