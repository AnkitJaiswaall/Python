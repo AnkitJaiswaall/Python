{
 "cells": [
  {
   "cell_type": "markdown",
   "id": "ea946b09",
   "metadata": {},
   "source": [
    "# list slicing"
   ]
  },
  {
   "cell_type": "code",
   "execution_count": 1,
   "id": "25db0d2f",
   "metadata": {},
   "outputs": [],
   "source": [
    "a=[5,7,1,3,8,9,0,21]"
   ]
  },
  {
   "cell_type": "code",
   "execution_count": 2,
   "id": "b133b371",
   "metadata": {},
   "outputs": [
    {
     "data": {
      "text/plain": [
       "[1, 3, 8]"
      ]
     },
     "execution_count": 2,
     "metadata": {},
     "output_type": "execute_result"
    }
   ],
   "source": [
    "a[2:5]"
   ]
  },
  {
   "cell_type": "code",
   "execution_count": 3,
   "id": "76d3aaff",
   "metadata": {},
   "outputs": [
    {
     "data": {
      "text/plain": [
       "[5, 7, 1, 3, 8]"
      ]
     },
     "execution_count": 3,
     "metadata": {},
     "output_type": "execute_result"
    }
   ],
   "source": [
    "a[:5]"
   ]
  },
  {
   "cell_type": "code",
   "execution_count": 4,
   "id": "43128d0b",
   "metadata": {},
   "outputs": [
    {
     "data": {
      "text/plain": [
       "[1, 9]"
      ]
     },
     "execution_count": 4,
     "metadata": {},
     "output_type": "execute_result"
    }
   ],
   "source": [
    "a[2:7:3]"
   ]
  },
  {
   "cell_type": "code",
   "execution_count": 5,
   "id": "32067b5f",
   "metadata": {},
   "outputs": [
    {
     "data": {
      "text/plain": [
       "[5, 1, 8, 0]"
      ]
     },
     "execution_count": 5,
     "metadata": {},
     "output_type": "execute_result"
    }
   ],
   "source": [
    "a[0:len(a):2]"
   ]
  },
  {
   "cell_type": "code",
   "execution_count": 6,
   "id": "10f165c8",
   "metadata": {},
   "outputs": [
    {
     "data": {
      "text/plain": [
       "[5, 1, 8, 0]"
      ]
     },
     "execution_count": 6,
     "metadata": {},
     "output_type": "execute_result"
    }
   ],
   "source": [
    "a[::2]"
   ]
  },
  {
   "cell_type": "code",
   "execution_count": 7,
   "id": "97e7bdec",
   "metadata": {},
   "outputs": [
    {
     "data": {
      "text/plain": [
       "[8, 3, 1]"
      ]
     },
     "execution_count": 7,
     "metadata": {},
     "output_type": "execute_result"
    }
   ],
   "source": [
    "a[4:1:-1]"
   ]
  },
  {
   "cell_type": "markdown",
   "id": "2d3f05dd",
   "metadata": {},
   "source": [
    "# reversing a list"
   ]
  },
  {
   "cell_type": "code",
   "execution_count": 8,
   "id": "df4f6141",
   "metadata": {},
   "outputs": [
    {
     "data": {
      "text/plain": [
       "[21, 0, 9, 8, 3, 1, 7, 5]"
      ]
     },
     "execution_count": 8,
     "metadata": {},
     "output_type": "execute_result"
    }
   ],
   "source": [
    "a[::-1]"
   ]
  },
  {
   "cell_type": "code",
   "execution_count": null,
   "id": "6ed275df",
   "metadata": {},
   "outputs": [],
   "source": []
  },
  {
   "cell_type": "markdown",
   "id": "be3fc975",
   "metadata": {},
   "source": [
    "# even number list"
   ]
  },
  {
   "cell_type": "code",
   "execution_count": 10,
   "id": "0b10e60f",
   "metadata": {},
   "outputs": [],
   "source": [
    "a=[2,6,54,34,78,12,21,23,98,90,65,43,23,12]\n",
    "b=[]\n",
    "for i in a:\n",
    "    if i%2==0:\n",
    "        b.append(i)"
   ]
  },
  {
   "cell_type": "code",
   "execution_count": 11,
   "id": "f0d4d8c2",
   "metadata": {},
   "outputs": [
    {
     "data": {
      "text/plain": [
       "[2, 6, 54, 34, 78, 12, 98, 90, 12]"
      ]
     },
     "execution_count": 11,
     "metadata": {},
     "output_type": "execute_result"
    }
   ],
   "source": [
    "b"
   ]
  },
  {
   "cell_type": "code",
   "execution_count": 15,
   "id": "31c8922f",
   "metadata": {},
   "outputs": [],
   "source": [
    "b=[x for x in a if x%2==0]"
   ]
  },
  {
   "cell_type": "code",
   "execution_count": 16,
   "id": "13dab4b9",
   "metadata": {},
   "outputs": [
    {
     "data": {
      "text/plain": [
       "[2, 6, 54, 34, 78, 12, 98, 90, 12]"
      ]
     },
     "execution_count": 16,
     "metadata": {},
     "output_type": "execute_result"
    }
   ],
   "source": [
    "b"
   ]
  },
  {
   "cell_type": "code",
   "execution_count": null,
   "id": "580b2c1d",
   "metadata": {},
   "outputs": [],
   "source": []
  },
  {
   "cell_type": "markdown",
   "id": "cc36f9c3",
   "metadata": {},
   "source": [
    "# tuples"
   ]
  },
  {
   "cell_type": "code",
   "execution_count": 17,
   "id": "9310c4dd",
   "metadata": {},
   "outputs": [],
   "source": [
    "# you can not change the data of tuple"
   ]
  },
  {
   "cell_type": "code",
   "execution_count": 18,
   "id": "3a29e97d",
   "metadata": {},
   "outputs": [],
   "source": [
    "v=('a','e','i','o','u')"
   ]
  },
  {
   "cell_type": "code",
   "execution_count": 23,
   "id": "47065de4",
   "metadata": {},
   "outputs": [
    {
     "data": {
      "text/plain": [
       "('a', 'e', 'i', 'o', 'u')"
      ]
     },
     "execution_count": 23,
     "metadata": {},
     "output_type": "execute_result"
    }
   ],
   "source": [
    "v"
   ]
  },
  {
   "cell_type": "code",
   "execution_count": 24,
   "id": "2abccd88",
   "metadata": {},
   "outputs": [
    {
     "data": {
      "text/plain": [
       "('e', 'i')"
      ]
     },
     "execution_count": 24,
     "metadata": {},
     "output_type": "execute_result"
    }
   ],
   "source": [
    "v[1:3]"
   ]
  },
  {
   "cell_type": "code",
   "execution_count": 25,
   "id": "505700c0",
   "metadata": {},
   "outputs": [
    {
     "data": {
      "text/plain": [
       "('u', 'o', 'i', 'e', 'a')"
      ]
     },
     "execution_count": 25,
     "metadata": {},
     "output_type": "execute_result"
    }
   ],
   "source": [
    "v[::-1]"
   ]
  },
  {
   "cell_type": "code",
   "execution_count": 26,
   "id": "f4d29793",
   "metadata": {},
   "outputs": [
    {
     "name": "stdout",
     "output_type": "stream",
     "text": [
      "<class 'tuple'>\n"
     ]
    }
   ],
   "source": [
    "print(type(v))"
   ]
  },
  {
   "cell_type": "code",
   "execution_count": 27,
   "id": "058cc804",
   "metadata": {},
   "outputs": [],
   "source": [
    "v='a','i','o','u'"
   ]
  },
  {
   "cell_type": "code",
   "execution_count": 28,
   "id": "e9063ef7",
   "metadata": {},
   "outputs": [
    {
     "data": {
      "text/plain": [
       "tuple"
      ]
     },
     "execution_count": 28,
     "metadata": {},
     "output_type": "execute_result"
    }
   ],
   "source": [
    "type(v)"
   ]
  },
  {
   "cell_type": "code",
   "execution_count": 29,
   "id": "103fcf41",
   "metadata": {},
   "outputs": [
    {
     "data": {
      "text/plain": [
       "('u', 'o', 'i', 'a')"
      ]
     },
     "execution_count": 29,
     "metadata": {},
     "output_type": "execute_result"
    }
   ],
   "source": [
    "v[::-1]"
   ]
  },
  {
   "cell_type": "code",
   "execution_count": 30,
   "id": "d1471917",
   "metadata": {},
   "outputs": [],
   "source": [
    "a=tuple()"
   ]
  },
  {
   "cell_type": "code",
   "execution_count": 33,
   "id": "cf119e8f",
   "metadata": {},
   "outputs": [],
   "source": [
    "a=tuple([3,4,8,9,0,1,3,2,6])"
   ]
  },
  {
   "cell_type": "code",
   "execution_count": 34,
   "id": "b897df2a",
   "metadata": {},
   "outputs": [
    {
     "data": {
      "text/plain": [
       "tuple"
      ]
     },
     "execution_count": 34,
     "metadata": {},
     "output_type": "execute_result"
    }
   ],
   "source": [
    "type(a)"
   ]
  },
  {
   "cell_type": "code",
   "execution_count": 35,
   "id": "d4ce8409",
   "metadata": {},
   "outputs": [],
   "source": [
    "b=list(a)"
   ]
  },
  {
   "cell_type": "code",
   "execution_count": 36,
   "id": "d332ef3d",
   "metadata": {},
   "outputs": [
    {
     "data": {
      "text/plain": [
       "list"
      ]
     },
     "execution_count": 36,
     "metadata": {},
     "output_type": "execute_result"
    }
   ],
   "source": [
    "type(b)"
   ]
  },
  {
   "cell_type": "code",
   "execution_count": 37,
   "id": "f821e79c",
   "metadata": {},
   "outputs": [],
   "source": [
    "a=(3,4,5,'hello',0,[3,5])"
   ]
  },
  {
   "cell_type": "code",
   "execution_count": 40,
   "id": "311eea25",
   "metadata": {},
   "outputs": [],
   "source": [
    "# we can change list inside tuples\n",
    "a[5][1]=4"
   ]
  },
  {
   "cell_type": "code",
   "execution_count": 41,
   "id": "687ba2fb",
   "metadata": {},
   "outputs": [
    {
     "data": {
      "text/plain": [
       "(3, 4, 5, 'hello', 0, [3, 4])"
      ]
     },
     "execution_count": 41,
     "metadata": {},
     "output_type": "execute_result"
    }
   ],
   "source": [
    "a"
   ]
  },
  {
   "cell_type": "code",
   "execution_count": 42,
   "id": "0ac6b73f",
   "metadata": {},
   "outputs": [
    {
     "name": "stdout",
     "output_type": "stream",
     "text": [
      "3\n",
      "4\n",
      "5\n",
      "hello\n",
      "0\n",
      "[3, 4]\n"
     ]
    }
   ],
   "source": [
    "for i in a:\n",
    "    print(i)"
   ]
  },
  {
   "cell_type": "code",
   "execution_count": 43,
   "id": "d1512a5f",
   "metadata": {},
   "outputs": [],
   "source": [
    "a[5].append('hello')"
   ]
  },
  {
   "cell_type": "code",
   "execution_count": 44,
   "id": "40732546",
   "metadata": {},
   "outputs": [
    {
     "data": {
      "text/plain": [
       "(3, 4, 5, 'hello', 0, [3, 4, 'hello'])"
      ]
     },
     "execution_count": 44,
     "metadata": {},
     "output_type": "execute_result"
    }
   ],
   "source": [
    "a"
   ]
  },
  {
   "cell_type": "code",
   "execution_count": 45,
   "id": "45aa7257",
   "metadata": {},
   "outputs": [],
   "source": [
    "a=(1,2,3)\n",
    "b=(4,5,6)\n"
   ]
  },
  {
   "cell_type": "code",
   "execution_count": 46,
   "id": "06fc13c7",
   "metadata": {},
   "outputs": [],
   "source": [
    "c=a+b"
   ]
  },
  {
   "cell_type": "code",
   "execution_count": 47,
   "id": "cdb3fab5",
   "metadata": {},
   "outputs": [
    {
     "data": {
      "text/plain": [
       "(1, 2, 3, 4, 5, 6)"
      ]
     },
     "execution_count": 47,
     "metadata": {},
     "output_type": "execute_result"
    }
   ],
   "source": [
    "c"
   ]
  },
  {
   "cell_type": "code",
   "execution_count": 48,
   "id": "08a9ce27",
   "metadata": {},
   "outputs": [],
   "source": [
    "a=[1,2,3]\n",
    "b=(7,8,9,a)\n",
    "a.append(10)"
   ]
  },
  {
   "cell_type": "code",
   "execution_count": 50,
   "id": "12624401",
   "metadata": {},
   "outputs": [
    {
     "data": {
      "text/plain": [
       "(7, 8, 9, [1, 2, 3, 10])"
      ]
     },
     "execution_count": 50,
     "metadata": {},
     "output_type": "execute_result"
    }
   ],
   "source": [
    "b"
   ]
  },
  {
   "cell_type": "code",
   "execution_count": 53,
   "id": "96378572",
   "metadata": {},
   "outputs": [],
   "source": [
    "a=(3,4,5)\n",
    "b=(3,2,1)\n",
    "\n",
    "a=a+b"
   ]
  },
  {
   "cell_type": "code",
   "execution_count": 54,
   "id": "cc05b1d7",
   "metadata": {},
   "outputs": [
    {
     "data": {
      "text/plain": [
       "(3, 4, 5, 3, 2, 1)"
      ]
     },
     "execution_count": 54,
     "metadata": {},
     "output_type": "execute_result"
    }
   ],
   "source": [
    "a"
   ]
  },
  {
   "cell_type": "code",
   "execution_count": 55,
   "id": "1141640e",
   "metadata": {},
   "outputs": [],
   "source": [
    "a=(1,2,3,[4,5,6])\n",
    "a[3].append(10)"
   ]
  },
  {
   "cell_type": "code",
   "execution_count": 56,
   "id": "9be40e61",
   "metadata": {},
   "outputs": [
    {
     "data": {
      "text/plain": [
       "(1, 2, 3, [4, 5, 6, 10])"
      ]
     },
     "execution_count": 56,
     "metadata": {},
     "output_type": "execute_result"
    }
   ],
   "source": [
    "a"
   ]
  },
  {
   "cell_type": "code",
   "execution_count": null,
   "id": "12e39797",
   "metadata": {},
   "outputs": [],
   "source": []
  },
  {
   "cell_type": "markdown",
   "id": "08da95d8",
   "metadata": {},
   "source": [
    "# chaeck if sorted or not"
   ]
  },
  {
   "cell_type": "code",
   "execution_count": 64,
   "id": "200f24c1",
   "metadata": {},
   "outputs": [],
   "source": [
    "a=(2,3,4,7,8,9)"
   ]
  },
  {
   "cell_type": "code",
   "execution_count": 65,
   "id": "6023a1ae",
   "metadata": {},
   "outputs": [
    {
     "name": "stdout",
     "output_type": "stream",
     "text": [
      "Sorted\n"
     ]
    }
   ],
   "source": [
    "ans=\"Sorted\"\n",
    "\n",
    "for i in range(len(a)-1):\n",
    "    if a[i]>a[i+1]:\n",
    "        ans=\"not Sorted\"\n",
    "        break\n",
    "    \n",
    "print(ans)        "
   ]
  },
  {
   "cell_type": "code",
   "execution_count": null,
   "id": "df84a0f1",
   "metadata": {},
   "outputs": [],
   "source": []
  },
  {
   "cell_type": "markdown",
   "id": "4d64cb03",
   "metadata": {},
   "source": [
    "# arguments"
   ]
  },
  {
   "cell_type": "code",
   "execution_count": 66,
   "id": "4071ce27",
   "metadata": {},
   "outputs": [],
   "source": [
    "def product(*pro):\n",
    "    print(pro,type(pro))"
   ]
  },
  {
   "cell_type": "code",
   "execution_count": 67,
   "id": "8970e51a",
   "metadata": {},
   "outputs": [
    {
     "name": "stdout",
     "output_type": "stream",
     "text": [
      "('apple', 'samsumg') <class 'tuple'>\n"
     ]
    }
   ],
   "source": [
    "product(\"apple\",\"samsumg\")"
   ]
  },
  {
   "cell_type": "code",
   "execution_count": null,
   "id": "340df6f3",
   "metadata": {},
   "outputs": [],
   "source": []
  },
  {
   "cell_type": "markdown",
   "id": "dbeda1fc",
   "metadata": {},
   "source": [
    "# product of number for any number of arguments "
   ]
  },
  {
   "cell_type": "code",
   "execution_count": 70,
   "id": "c83dee5d",
   "metadata": {},
   "outputs": [],
   "source": [
    "def product(*args):\n",
    "    p=1\n",
    "    for i in args:\n",
    "        p=p*i\n",
    "    return p"
   ]
  },
  {
   "cell_type": "code",
   "execution_count": 71,
   "id": "64c885e2",
   "metadata": {},
   "outputs": [
    {
     "data": {
      "text/plain": [
       "6000"
      ]
     },
     "execution_count": 71,
     "metadata": {},
     "output_type": "execute_result"
    }
   ],
   "source": [
    "product(10,20,30)"
   ]
  },
  {
   "cell_type": "code",
   "execution_count": 72,
   "id": "d2601212",
   "metadata": {},
   "outputs": [
    {
     "data": {
      "text/plain": [
       "12"
      ]
     },
     "execution_count": 72,
     "metadata": {},
     "output_type": "execute_result"
    }
   ],
   "source": [
    "product(3,4)"
   ]
  },
  {
   "cell_type": "code",
   "execution_count": 73,
   "id": "6c023878",
   "metadata": {},
   "outputs": [
    {
     "data": {
      "text/plain": [
       "10080"
      ]
     },
     "execution_count": 73,
     "metadata": {},
     "output_type": "execute_result"
    }
   ],
   "source": [
    "product(2,4,7,1,9,20)"
   ]
  },
  {
   "cell_type": "code",
   "execution_count": null,
   "id": "910c6014",
   "metadata": {},
   "outputs": [],
   "source": []
  },
  {
   "cell_type": "code",
   "execution_count": 74,
   "id": "a066d56c",
   "metadata": {},
   "outputs": [],
   "source": [
    "a=[1,2,3,4,5,6,7]"
   ]
  },
  {
   "cell_type": "code",
   "execution_count": 75,
   "id": "846b6fe4",
   "metadata": {},
   "outputs": [
    {
     "name": "stdout",
     "output_type": "stream",
     "text": [
      "1 2 3 4 5 6 7\n"
     ]
    }
   ],
   "source": [
    "print(*a)\n",
    "# * is spread operator"
   ]
  },
  {
   "cell_type": "code",
   "execution_count": 76,
   "id": "4c91eaf2",
   "metadata": {},
   "outputs": [
    {
     "name": "stdout",
     "output_type": "stream",
     "text": [
      "[1, 2, 3, 4, 5, 6, 7]\n"
     ]
    }
   ],
   "source": [
    "print(a)"
   ]
  },
  {
   "cell_type": "code",
   "execution_count": null,
   "id": "236d199d",
   "metadata": {},
   "outputs": [],
   "source": []
  }
 ],
 "metadata": {
  "kernelspec": {
   "display_name": "Python 3 (ipykernel)",
   "language": "python",
   "name": "python3"
  },
  "language_info": {
   "codemirror_mode": {
    "name": "ipython",
    "version": 3
   },
   "file_extension": ".py",
   "mimetype": "text/x-python",
   "name": "python",
   "nbconvert_exporter": "python",
   "pygments_lexer": "ipython3",
   "version": "3.9.7"
  }
 },
 "nbformat": 4,
 "nbformat_minor": 5
}
