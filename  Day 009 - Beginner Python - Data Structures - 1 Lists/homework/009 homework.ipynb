{
 "cells": [
  {
   "cell_type": "markdown",
   "id": "8c0a56e5",
   "metadata": {},
   "source": [
    "# first-missing-integer"
   ]
  },
  {
   "cell_type": "code",
   "execution_count": 85,
   "id": "8c08af02",
   "metadata": {},
   "outputs": [],
   "source": [
    "def firstPositive(a):\n",
    "    a.sort()\n",
    "    count=1\n",
    "#     print(a)\n",
    "    for i in range(0,len(a)):\n",
    "        if(int(a[i])<=0):\n",
    "            if(a[len(a)-1]<=0):\n",
    "                return count\n",
    "            continue\n",
    "            \n",
    "        else:    \n",
    "            \n",
    "#             print(count==a[i])\n",
    "            if(count!=a[i]):\n",
    "                return count\n",
    "            else:\n",
    "                count+=1\n",
    "            if count==a[len(a)-1]:    \n",
    "                return count+1"
   ]
  },
  {
   "cell_type": "code",
   "execution_count": 86,
   "id": "a6addb77",
   "metadata": {},
   "outputs": [
    {
     "data": {
      "text/plain": [
       "3"
      ]
     },
     "execution_count": 86,
     "metadata": {},
     "output_type": "execute_result"
    }
   ],
   "source": [
    "firstPositive([1,2,0])"
   ]
  },
  {
   "cell_type": "code",
   "execution_count": 87,
   "id": "f86dd6fe",
   "metadata": {},
   "outputs": [
    {
     "data": {
      "text/plain": [
       "1"
      ]
     },
     "execution_count": 87,
     "metadata": {},
     "output_type": "execute_result"
    }
   ],
   "source": [
    "firstPositive([-8, -7, -6])"
   ]
  },
  {
   "cell_type": "code",
   "execution_count": 88,
   "id": "846f53e5",
   "metadata": {},
   "outputs": [
    {
     "data": {
      "text/plain": [
       "2"
      ]
     },
     "execution_count": 88,
     "metadata": {},
     "output_type": "execute_result"
    }
   ],
   "source": [
    "firstPositive([3, 4, -1, 1])"
   ]
  },
  {
   "cell_type": "code",
   "execution_count": null,
   "id": "90141a46",
   "metadata": {},
   "outputs": [],
   "source": []
  },
  {
   "cell_type": "markdown",
   "id": "6ed66313",
   "metadata": {},
   "source": [
    "# print-in-reverse"
   ]
  },
  {
   "cell_type": "code",
   "execution_count": 95,
   "id": "f48155f7",
   "metadata": {},
   "outputs": [],
   "source": [
    "def reverse(n,*l):\n",
    "    for i in range(n-1,-1,-1):\n",
    "        print(l[i])"
   ]
  },
  {
   "cell_type": "code",
   "execution_count": 96,
   "id": "9f223723",
   "metadata": {},
   "outputs": [
    {
     "name": "stdout",
     "output_type": "stream",
     "text": [
      "5\n",
      "4\n",
      "3\n",
      "2\n",
      "1\n"
     ]
    }
   ],
   "source": [
    "reverse(5,1,2,3,4,5)"
   ]
  },
  {
   "cell_type": "code",
   "execution_count": 98,
   "id": "b84ad860",
   "metadata": {},
   "outputs": [
    {
     "name": "stdout",
     "output_type": "stream",
     "text": [
      "80\n",
      "40\n",
      "50\n",
      "10\n"
     ]
    }
   ],
   "source": [
    "reverse(4,10,50,40,80)"
   ]
  },
  {
   "cell_type": "code",
   "execution_count": null,
   "id": "f79a5732",
   "metadata": {},
   "outputs": [],
   "source": []
  }
 ],
 "metadata": {
  "kernelspec": {
   "display_name": "Python 3 (ipykernel)",
   "language": "python",
   "name": "python3"
  },
  "language_info": {
   "codemirror_mode": {
    "name": "ipython",
    "version": 3
   },
   "file_extension": ".py",
   "mimetype": "text/x-python",
   "name": "python",
   "nbconvert_exporter": "python",
   "pygments_lexer": "ipython3",
   "version": "3.9.7"
  }
 },
 "nbformat": 4,
 "nbformat_minor": 5
}
