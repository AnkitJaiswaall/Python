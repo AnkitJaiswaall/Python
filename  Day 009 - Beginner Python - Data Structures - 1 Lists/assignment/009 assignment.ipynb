{
 "cells": [
  {
   "cell_type": "markdown",
   "id": "dee1c82c",
   "metadata": {},
   "source": [
    "# negative-integers"
   ]
  },
  {
   "cell_type": "code",
   "execution_count": 3,
   "id": "c3c3d5f2",
   "metadata": {},
   "outputs": [],
   "source": [
    "def negativeInt(*n):\n",
    "    for i in range(len(n)):\n",
    "        if n[i]<0:\n",
    "            print(n[i])"
   ]
  },
  {
   "cell_type": "code",
   "execution_count": 4,
   "id": "de3d3ad6",
   "metadata": {},
   "outputs": [
    {
     "name": "stdout",
     "output_type": "stream",
     "text": [
      "-1\n",
      "-2\n",
      "-7\n",
      "-3\n",
      "-65\n"
     ]
    }
   ],
   "source": [
    "negativeInt(5,3,-1,-2,9,-7,-3,0,-65)"
   ]
  },
  {
   "cell_type": "code",
   "execution_count": null,
   "id": "14436838",
   "metadata": {},
   "outputs": [],
   "source": []
  },
  {
   "cell_type": "markdown",
   "id": "d436c828",
   "metadata": {},
   "source": [
    "# pair-count"
   ]
  },
  {
   "cell_type": "code",
   "execution_count": 16,
   "id": "b94fe9f9",
   "metadata": {},
   "outputs": [],
   "source": [
    "def pairCount(a,b):\n",
    "    count=0\n",
    "    for i in range(len(a)):\n",
    "        \n",
    "        for j in range(len(a)):\n",
    "            if(i==j):\n",
    "                continue\n",
    "            else:\n",
    "                if(a[i]+a[j]==b):\n",
    "                    count+=1\n",
    "    return count//2           \n",
    "            "
   ]
  },
  {
   "cell_type": "code",
   "execution_count": 19,
   "id": "b0928af2",
   "metadata": {},
   "outputs": [
    {
     "data": {
      "text/plain": [
       "3"
      ]
     },
     "execution_count": 19,
     "metadata": {},
     "output_type": "execute_result"
    }
   ],
   "source": [
    "pairCount([1,2,3,2,1],4)"
   ]
  },
  {
   "cell_type": "code",
   "execution_count": 20,
   "id": "22931cc5",
   "metadata": {},
   "outputs": [
    {
     "data": {
      "text/plain": [
       "3"
      ]
     },
     "execution_count": 20,
     "metadata": {},
     "output_type": "execute_result"
    }
   ],
   "source": [
    "pairCount([1,1,1],2)"
   ]
  },
  {
   "cell_type": "code",
   "execution_count": null,
   "id": "fe1780e1",
   "metadata": {},
   "outputs": [],
   "source": []
  },
  {
   "cell_type": "markdown",
   "id": "44aa18eb",
   "metadata": {},
   "source": [
    "# linear-search"
   ]
  },
  {
   "cell_type": "code",
   "execution_count": 29,
   "id": "c39c4a87",
   "metadata": {},
   "outputs": [],
   "source": [
    "def search(a,b):\n",
    "        if b in a:\n",
    "            return 1\n",
    "        return 0    "
   ]
  },
  {
   "cell_type": "code",
   "execution_count": 30,
   "id": "2ba85420",
   "metadata": {},
   "outputs": [
    {
     "data": {
      "text/plain": [
       "1"
      ]
     },
     "execution_count": 30,
     "metadata": {},
     "output_type": "execute_result"
    }
   ],
   "source": [
    "search([1, 4, 3, 2],2)"
   ]
  },
  {
   "cell_type": "code",
   "execution_count": 31,
   "id": "faecd3f3",
   "metadata": {},
   "outputs": [
    {
     "data": {
      "text/plain": [
       "0"
      ]
     },
     "execution_count": 31,
     "metadata": {},
     "output_type": "execute_result"
    }
   ],
   "source": [
    "search([1, 4, 3, 2],5)"
   ]
  },
  {
   "cell_type": "code",
   "execution_count": null,
   "id": "60147544",
   "metadata": {},
   "outputs": [],
   "source": []
  }
 ],
 "metadata": {
  "kernelspec": {
   "display_name": "Python 3 (ipykernel)",
   "language": "python",
   "name": "python3"
  },
  "language_info": {
   "codemirror_mode": {
    "name": "ipython",
    "version": 3
   },
   "file_extension": ".py",
   "mimetype": "text/x-python",
   "name": "python",
   "nbconvert_exporter": "python",
   "pygments_lexer": "ipython3",
   "version": "3.9.7"
  }
 },
 "nbformat": 4,
 "nbformat_minor": 5
}
