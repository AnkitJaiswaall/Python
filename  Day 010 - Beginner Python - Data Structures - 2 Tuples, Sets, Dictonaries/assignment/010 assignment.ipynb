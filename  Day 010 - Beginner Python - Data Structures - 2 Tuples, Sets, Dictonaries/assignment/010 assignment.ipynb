{
 "cells": [
  {
   "cell_type": "markdown",
   "id": "4d80824b",
   "metadata": {},
   "source": [
    "# check-pelindrome"
   ]
  },
  {
   "cell_type": "code",
   "execution_count": 1,
   "id": "5c98b62c",
   "metadata": {},
   "outputs": [],
   "source": [
    "def pelindrome(s):\n",
    "    f={}\n",
    "    for char in s:\n",
    "        if(char in f):\n",
    "            f[char]+=1\n",
    "        else:\n",
    "            f[char]=1\n",
    "    print(f)\n",
    "    v=f.values()\n",
    "#     print(v)\n",
    "    count=0\n",
    "    for i in v:\n",
    "        if i%2==1:\n",
    "            count+=1\n",
    "            if(count==2):\n",
    "                return 0\n",
    "           \n",
    "    return 1"
   ]
  },
  {
   "cell_type": "code",
   "execution_count": 2,
   "id": "ca20c2eb",
   "metadata": {},
   "outputs": [
    {
     "name": "stdout",
     "output_type": "stream",
     "text": [
      "{'a': 1, 'b': 1, 'c': 1, 'd': 1, 'e': 1}\n"
     ]
    },
    {
     "data": {
      "text/plain": [
       "0"
      ]
     },
     "execution_count": 2,
     "metadata": {},
     "output_type": "execute_result"
    }
   ],
   "source": [
    "pelindrome(\"abcde\")"
   ]
  },
  {
   "cell_type": "code",
   "execution_count": 3,
   "id": "91554b94",
   "metadata": {},
   "outputs": [
    {
     "name": "stdout",
     "output_type": "stream",
     "text": [
      "{'a': 2, 'b': 2, 'e': 2}\n"
     ]
    },
    {
     "data": {
      "text/plain": [
       "1"
      ]
     },
     "execution_count": 3,
     "metadata": {},
     "output_type": "execute_result"
    }
   ],
   "source": [
    "pelindrome(\"abbaee\")"
   ]
  },
  {
   "cell_type": "code",
   "execution_count": null,
   "id": "a22018ba",
   "metadata": {},
   "outputs": [],
   "source": []
  }
 ],
 "metadata": {
  "kernelspec": {
   "display_name": "Python 3 (ipykernel)",
   "language": "python",
   "name": "python3"
  },
  "language_info": {
   "codemirror_mode": {
    "name": "ipython",
    "version": 3
   },
   "file_extension": ".py",
   "mimetype": "text/x-python",
   "name": "python",
   "nbconvert_exporter": "python",
   "pygments_lexer": "ipython3",
   "version": "3.9.7"
  }
 },
 "nbformat": 4,
 "nbformat_minor": 5
}
