{
 "cells": [
  {
   "cell_type": "markdown",
   "id": "f73551d7",
   "metadata": {},
   "source": [
    "# set"
   ]
  },
  {
   "cell_type": "code",
   "execution_count": 9,
   "id": "1b0a1737",
   "metadata": {},
   "outputs": [],
   "source": [
    "s={3,4,6,1,2,90,43,-1,100,22,\"hello\",\"world\"}"
   ]
  },
  {
   "cell_type": "code",
   "execution_count": 10,
   "id": "2635e249",
   "metadata": {},
   "outputs": [
    {
     "name": "stdout",
     "output_type": "stream",
     "text": [
      "<class 'set'>\n"
     ]
    }
   ],
   "source": [
    "print(type(s))"
   ]
  },
  {
   "cell_type": "code",
   "execution_count": 11,
   "id": "f42b2b4e",
   "metadata": {},
   "outputs": [
    {
     "data": {
      "text/plain": [
       "{-1, 1, 100, 2, 22, 3, 4, 43, 6, 90, 'hello', 'world'}"
      ]
     },
     "execution_count": 11,
     "metadata": {},
     "output_type": "execute_result"
    }
   ],
   "source": [
    "s"
   ]
  },
  {
   "cell_type": "code",
   "execution_count": 12,
   "id": "b5d7f7ce",
   "metadata": {},
   "outputs": [
    {
     "name": "stdout",
     "output_type": "stream",
     "text": [
      "presented\n"
     ]
    }
   ],
   "source": [
    "if 2 in s:\n",
    "    print(\"presented\")"
   ]
  },
  {
   "cell_type": "code",
   "execution_count": 14,
   "id": "3fdb038b",
   "metadata": {},
   "outputs": [],
   "source": [
    "s.add(34)"
   ]
  },
  {
   "cell_type": "code",
   "execution_count": 15,
   "id": "be777428",
   "metadata": {},
   "outputs": [
    {
     "data": {
      "text/plain": [
       "{-1, 1, 100, 2, 22, 3, 34, 4, 43, 6, 90, 'hello', 'world'}"
      ]
     },
     "execution_count": 15,
     "metadata": {},
     "output_type": "execute_result"
    }
   ],
   "source": [
    "s"
   ]
  },
  {
   "cell_type": "code",
   "execution_count": 17,
   "id": "b5c97a4d",
   "metadata": {},
   "outputs": [],
   "source": [
    "s.update([211,322,122,788])"
   ]
  },
  {
   "cell_type": "code",
   "execution_count": 18,
   "id": "7686f0c8",
   "metadata": {},
   "outputs": [
    {
     "data": {
      "text/plain": [
       "{-1, 1, 100, 122, 2, 211, 22, 3, 322, 34, 4, 43, 6, 788, 90, 'hello', 'world'}"
      ]
     },
     "execution_count": 18,
     "metadata": {},
     "output_type": "execute_result"
    }
   ],
   "source": [
    "s"
   ]
  },
  {
   "cell_type": "code",
   "execution_count": 19,
   "id": "da0a6592",
   "metadata": {},
   "outputs": [],
   "source": [
    "s.remove(100)"
   ]
  },
  {
   "cell_type": "code",
   "execution_count": 20,
   "id": "34471a65",
   "metadata": {},
   "outputs": [
    {
     "data": {
      "text/plain": [
       "{-1, 1, 122, 2, 211, 22, 3, 322, 34, 4, 43, 6, 788, 90, 'hello', 'world'}"
      ]
     },
     "execution_count": 20,
     "metadata": {},
     "output_type": "execute_result"
    }
   ],
   "source": [
    "s"
   ]
  },
  {
   "cell_type": "code",
   "execution_count": 21,
   "id": "a4f8d689",
   "metadata": {},
   "outputs": [
    {
     "ename": "KeyError",
     "evalue": "1000",
     "output_type": "error",
     "traceback": [
      "\u001b[0;31m---------------------------------------------------------------------------\u001b[0m",
      "\u001b[0;31mKeyError\u001b[0m                                  Traceback (most recent call last)",
      "\u001b[0;32m/var/folders/h9/8nmv6v9j12b30k1ktj1fvl_00000gn/T/ipykernel_1145/2897867741.py\u001b[0m in \u001b[0;36m<module>\u001b[0;34m\u001b[0m\n\u001b[0;32m----> 1\u001b[0;31m \u001b[0ms\u001b[0m\u001b[0;34m.\u001b[0m\u001b[0mremove\u001b[0m\u001b[0;34m(\u001b[0m\u001b[0;36m1000\u001b[0m\u001b[0;34m)\u001b[0m\u001b[0;34m\u001b[0m\u001b[0;34m\u001b[0m\u001b[0m\n\u001b[0m",
      "\u001b[0;31mKeyError\u001b[0m: 1000"
     ]
    }
   ],
   "source": [
    "s.remove(1000)"
   ]
  },
  {
   "cell_type": "code",
   "execution_count": 22,
   "id": "e558e4b3",
   "metadata": {},
   "outputs": [],
   "source": [
    "s.discard(22)"
   ]
  },
  {
   "cell_type": "code",
   "execution_count": 23,
   "id": "480aba26",
   "metadata": {},
   "outputs": [
    {
     "data": {
      "text/plain": [
       "{-1, 1, 122, 2, 211, 3, 322, 34, 4, 43, 6, 788, 90, 'hello', 'world'}"
      ]
     },
     "execution_count": 23,
     "metadata": {},
     "output_type": "execute_result"
    }
   ],
   "source": [
    "s"
   ]
  },
  {
   "cell_type": "code",
   "execution_count": 24,
   "id": "b989d99f",
   "metadata": {},
   "outputs": [],
   "source": [
    "s.discard(1000)"
   ]
  },
  {
   "cell_type": "code",
   "execution_count": 25,
   "id": "edefbe7e",
   "metadata": {},
   "outputs": [
    {
     "data": {
      "text/plain": [
       "{-1, 1, 122, 2, 211, 3, 322, 34, 4, 43, 6, 788, 90, 'hello', 'world'}"
      ]
     },
     "execution_count": 25,
     "metadata": {},
     "output_type": "execute_result"
    }
   ],
   "source": [
    "s"
   ]
  },
  {
   "cell_type": "code",
   "execution_count": 26,
   "id": "7993e017",
   "metadata": {},
   "outputs": [],
   "source": [
    "s=set([1,2,3])"
   ]
  },
  {
   "cell_type": "code",
   "execution_count": 27,
   "id": "bfdd4db2",
   "metadata": {},
   "outputs": [
    {
     "data": {
      "text/plain": [
       "{1, 2, 3}"
      ]
     },
     "execution_count": 27,
     "metadata": {},
     "output_type": "execute_result"
    }
   ],
   "source": [
    "s"
   ]
  },
  {
   "cell_type": "code",
   "execution_count": 28,
   "id": "db6831bb",
   "metadata": {},
   "outputs": [],
   "source": [
    "s=set((1,2,3))"
   ]
  },
  {
   "cell_type": "code",
   "execution_count": 29,
   "id": "aa1ebd40",
   "metadata": {},
   "outputs": [
    {
     "data": {
      "text/plain": [
       "{1, 2, 3}"
      ]
     },
     "execution_count": 29,
     "metadata": {},
     "output_type": "execute_result"
    }
   ],
   "source": [
    "s"
   ]
  },
  {
   "cell_type": "code",
   "execution_count": 30,
   "id": "e81aab27",
   "metadata": {},
   "outputs": [
    {
     "ename": "TypeError",
     "evalue": "unhashable type: 'list'",
     "output_type": "error",
     "traceback": [
      "\u001b[0;31m---------------------------------------------------------------------------\u001b[0m",
      "\u001b[0;31mTypeError\u001b[0m                                 Traceback (most recent call last)",
      "\u001b[0;32m/var/folders/h9/8nmv6v9j12b30k1ktj1fvl_00000gn/T/ipykernel_1145/1447520248.py\u001b[0m in \u001b[0;36m<module>\u001b[0;34m\u001b[0m\n\u001b[0;32m----> 1\u001b[0;31m \u001b[0ms\u001b[0m\u001b[0;34m=\u001b[0m\u001b[0;34m{\u001b[0m\u001b[0;34m[\u001b[0m\u001b[0;36m1\u001b[0m\u001b[0;34m,\u001b[0m\u001b[0;36m2\u001b[0m\u001b[0;34m]\u001b[0m\u001b[0;34m,\u001b[0m\u001b[0;34m\"hello\"\u001b[0m\u001b[0;34m,\u001b[0m\u001b[0;36m10\u001b[0m\u001b[0;34m}\u001b[0m\u001b[0;34m\u001b[0m\u001b[0;34m\u001b[0m\u001b[0m\n\u001b[0m",
      "\u001b[0;31mTypeError\u001b[0m: unhashable type: 'list'"
     ]
    }
   ],
   "source": [
    "s={[1,2],\"hello\",10}"
   ]
  },
  {
   "cell_type": "code",
   "execution_count": 31,
   "id": "afe2f7a7",
   "metadata": {},
   "outputs": [],
   "source": [
    "s={1,\"hello\",10}"
   ]
  },
  {
   "cell_type": "code",
   "execution_count": 32,
   "id": "20d8f645",
   "metadata": {},
   "outputs": [
    {
     "data": {
      "text/plain": [
       "{1, 10, 'hello'}"
      ]
     },
     "execution_count": 32,
     "metadata": {},
     "output_type": "execute_result"
    }
   ],
   "source": [
    "s"
   ]
  },
  {
   "cell_type": "code",
   "execution_count": 33,
   "id": "58987417",
   "metadata": {},
   "outputs": [],
   "source": [
    "s={1,2,3,\"hello\",(10,20,30)}"
   ]
  },
  {
   "cell_type": "code",
   "execution_count": 34,
   "id": "10ce9090",
   "metadata": {},
   "outputs": [
    {
     "data": {
      "text/plain": [
       "{(10, 20, 30), 1, 2, 3, 'hello'}"
      ]
     },
     "execution_count": 34,
     "metadata": {},
     "output_type": "execute_result"
    }
   ],
   "source": [
    "s"
   ]
  },
  {
   "cell_type": "code",
   "execution_count": 35,
   "id": "4570ad88",
   "metadata": {},
   "outputs": [
    {
     "ename": "TypeError",
     "evalue": "unhashable type: 'set'",
     "output_type": "error",
     "traceback": [
      "\u001b[0;31m---------------------------------------------------------------------------\u001b[0m",
      "\u001b[0;31mTypeError\u001b[0m                                 Traceback (most recent call last)",
      "\u001b[0;32m/var/folders/h9/8nmv6v9j12b30k1ktj1fvl_00000gn/T/ipykernel_1145/1665064540.py\u001b[0m in \u001b[0;36m<module>\u001b[0;34m\u001b[0m\n\u001b[0;32m----> 1\u001b[0;31m \u001b[0ms\u001b[0m\u001b[0;34m=\u001b[0m\u001b[0;34m{\u001b[0m\u001b[0;34m{\u001b[0m\u001b[0;36m1\u001b[0m\u001b[0;34m,\u001b[0m\u001b[0;36m2\u001b[0m\u001b[0;34m,\u001b[0m\u001b[0;36m3\u001b[0m\u001b[0;34m}\u001b[0m\u001b[0;34m,\u001b[0m\u001b[0;34m\"hello\"\u001b[0m\u001b[0;34m,\u001b[0m\u001b[0;36m90\u001b[0m\u001b[0;34m,\u001b[0m\u001b[0;36m70\u001b[0m\u001b[0;34m}\u001b[0m\u001b[0;34m\u001b[0m\u001b[0;34m\u001b[0m\u001b[0m\n\u001b[0m",
      "\u001b[0;31mTypeError\u001b[0m: unhashable type: 'set'"
     ]
    }
   ],
   "source": [
    "s={{1,2,3},\"hello\",90,70}"
   ]
  },
  {
   "cell_type": "code",
   "execution_count": 36,
   "id": "d7783a87",
   "metadata": {},
   "outputs": [],
   "source": [
    "friend1 = [\n",
    "    'How I Met Your Mother',\n",
    "    'Breaking Bad',\n",
    "    'The Wire'\n",
    "]\n",
    "\n",
    "friend2 = [\n",
    "    'Breaking Bad',\n",
    "    'Westworld',\n",
    "    'The Office'\n",
    "]\n",
    "\n",
    "friend3 = [\n",
    "    'Sopranos',\n",
    "    'Game of Thrones',\n",
    "    'Sherlock'\n",
    "]\n",
    "\n",
    "friend4 = [\n",
    "    'Friends',\n",
    "    'Sherlock',\n",
    "    'Daredevil'\n",
    "]"
   ]
  },
  {
   "cell_type": "code",
   "execution_count": 37,
   "id": "f10d5b84",
   "metadata": {},
   "outputs": [],
   "source": [
    "s=set()"
   ]
  },
  {
   "cell_type": "code",
   "execution_count": 38,
   "id": "42912a16",
   "metadata": {},
   "outputs": [],
   "source": [
    "s.update(friend1,friend2,friend3,friend4)"
   ]
  },
  {
   "cell_type": "code",
   "execution_count": 39,
   "id": "01a87b03",
   "metadata": {},
   "outputs": [
    {
     "data": {
      "text/plain": [
       "{'Breaking Bad',\n",
       " 'Daredevil',\n",
       " 'Friends',\n",
       " 'Game of Thrones',\n",
       " 'How I Met Your Mother',\n",
       " 'Sherlock',\n",
       " 'Sopranos',\n",
       " 'The Office',\n",
       " 'The Wire',\n",
       " 'Westworld'}"
      ]
     },
     "execution_count": 39,
     "metadata": {},
     "output_type": "execute_result"
    }
   ],
   "source": [
    "s"
   ]
  },
  {
   "cell_type": "code",
   "execution_count": null,
   "id": "027ee879",
   "metadata": {},
   "outputs": [],
   "source": []
  },
  {
   "cell_type": "markdown",
   "id": "7ec0e32e",
   "metadata": {},
   "source": [
    "# A fifth friend comes along and produces his tv show list. He wants to check which of the shows you have in common with his list."
   ]
  },
  {
   "cell_type": "code",
   "execution_count": 40,
   "id": "4879ae3b",
   "metadata": {},
   "outputs": [],
   "source": [
    "friend5 = [\n",
    "    'The Office',\n",
    "    'Doctor Who',\n",
    "    'Peaky Blinders'\n",
    "]"
   ]
  },
  {
   "cell_type": "code",
   "execution_count": 41,
   "id": "02060b5e",
   "metadata": {},
   "outputs": [
    {
     "name": "stdout",
     "output_type": "stream",
     "text": [
      "The Office\n"
     ]
    }
   ],
   "source": [
    "for tv in friend5:\n",
    "    if tv in s:\n",
    "        print(tv)"
   ]
  },
  {
   "cell_type": "code",
   "execution_count": null,
   "id": "3af3e928",
   "metadata": {},
   "outputs": [],
   "source": [
    "\n"
   ]
  },
  {
   "cell_type": "markdown",
   "id": "2efbb17b",
   "metadata": {},
   "source": [
    "# Dictionaries"
   ]
  },
  {
   "cell_type": "code",
   "execution_count": 42,
   "id": "22bafada",
   "metadata": {},
   "outputs": [],
   "source": [
    "currency=dict()"
   ]
  },
  {
   "cell_type": "code",
   "execution_count": 43,
   "id": "f9b2c69a",
   "metadata": {},
   "outputs": [],
   "source": [
    "currency={}"
   ]
  },
  {
   "cell_type": "code",
   "execution_count": 44,
   "id": "932fb097",
   "metadata": {},
   "outputs": [],
   "source": [
    "currency = {\n",
    "    'India': 'Rupee',\n",
    "    'USA': 'Dollar',\n",
    "    'Japan': 'Yen',\n",
    "    'Spain': 'Euro',\n",
    "    'Italy': 'Euro'\n",
    "}"
   ]
  },
  {
   "cell_type": "code",
   "execution_count": 45,
   "id": "1f29be6b",
   "metadata": {},
   "outputs": [
    {
     "data": {
      "text/plain": [
       "{'India': 'Rupee',\n",
       " 'USA': 'Dollar',\n",
       " 'Japan': 'Yen',\n",
       " 'Spain': 'Euro',\n",
       " 'Italy': 'Euro'}"
      ]
     },
     "execution_count": 45,
     "metadata": {},
     "output_type": "execute_result"
    }
   ],
   "source": [
    "currency"
   ]
  },
  {
   "cell_type": "code",
   "execution_count": 46,
   "id": "0d32bbfa",
   "metadata": {},
   "outputs": [
    {
     "data": {
      "text/plain": [
       "dict"
      ]
     },
     "execution_count": 46,
     "metadata": {},
     "output_type": "execute_result"
    }
   ],
   "source": [
    "type(currency)"
   ]
  },
  {
   "cell_type": "code",
   "execution_count": 47,
   "id": "4dbbd734",
   "metadata": {},
   "outputs": [
    {
     "data": {
      "text/plain": [
       "'Rupee'"
      ]
     },
     "execution_count": 47,
     "metadata": {},
     "output_type": "execute_result"
    }
   ],
   "source": [
    "currency[\"India\"]"
   ]
  },
  {
   "cell_type": "code",
   "execution_count": 48,
   "id": "7ccd2b00",
   "metadata": {},
   "outputs": [],
   "source": [
    "currency[\"USA\"]=\"USD\""
   ]
  },
  {
   "cell_type": "code",
   "execution_count": 49,
   "id": "19f188d6",
   "metadata": {},
   "outputs": [
    {
     "data": {
      "text/plain": [
       "{'India': 'Rupee',\n",
       " 'USA': 'USD',\n",
       " 'Japan': 'Yen',\n",
       " 'Spain': 'Euro',\n",
       " 'Italy': 'Euro'}"
      ]
     },
     "execution_count": 49,
     "metadata": {},
     "output_type": "execute_result"
    }
   ],
   "source": [
    "currency"
   ]
  },
  {
   "cell_type": "code",
   "execution_count": 51,
   "id": "b1719383",
   "metadata": {},
   "outputs": [],
   "source": [
    "t=(1,2,3)\n",
    "currency[t]=\"ok\""
   ]
  },
  {
   "cell_type": "code",
   "execution_count": 52,
   "id": "1588ba8a",
   "metadata": {},
   "outputs": [
    {
     "data": {
      "text/plain": [
       "{'India': 'Rupee',\n",
       " 'USA': 'USD',\n",
       " 'Japan': 'Yen',\n",
       " 'Spain': 'Euro',\n",
       " 'Italy': 'Euro',\n",
       " (1, 2, 3): 'ok'}"
      ]
     },
     "execution_count": 52,
     "metadata": {},
     "output_type": "execute_result"
    }
   ],
   "source": [
    "currency"
   ]
  },
  {
   "cell_type": "code",
   "execution_count": 54,
   "id": "43b7cff7",
   "metadata": {},
   "outputs": [],
   "source": [
    "del currency[(1,2,3)]"
   ]
  },
  {
   "cell_type": "code",
   "execution_count": 55,
   "id": "ca998598",
   "metadata": {},
   "outputs": [
    {
     "data": {
      "text/plain": [
       "{'India': 'Rupee',\n",
       " 'USA': 'USD',\n",
       " 'Japan': 'Yen',\n",
       " 'Spain': 'Euro',\n",
       " 'Italy': 'Euro'}"
      ]
     },
     "execution_count": 55,
     "metadata": {},
     "output_type": "execute_result"
    }
   ],
   "source": [
    "currency"
   ]
  },
  {
   "cell_type": "code",
   "execution_count": 56,
   "id": "be2e6346",
   "metadata": {},
   "outputs": [],
   "source": [
    "currency['El Salvador'] = set(['USD', 'Bitcoin'])"
   ]
  },
  {
   "cell_type": "code",
   "execution_count": 57,
   "id": "b3914f26",
   "metadata": {},
   "outputs": [
    {
     "data": {
      "text/plain": [
       "{'India': 'Rupee',\n",
       " 'USA': 'USD',\n",
       " 'Japan': 'Yen',\n",
       " 'Spain': 'Euro',\n",
       " 'Italy': 'Euro',\n",
       " 'El Salvador': {'Bitcoin', 'USD'}}"
      ]
     },
     "execution_count": 57,
     "metadata": {},
     "output_type": "execute_result"
    }
   ],
   "source": [
    "currency"
   ]
  },
  {
   "cell_type": "code",
   "execution_count": 58,
   "id": "e04c045f",
   "metadata": {},
   "outputs": [
    {
     "data": {
      "text/plain": [
       "dict_keys(['India', 'USA', 'Japan', 'Spain', 'Italy', 'El Salvador'])"
      ]
     },
     "execution_count": 58,
     "metadata": {},
     "output_type": "execute_result"
    }
   ],
   "source": [
    "currency.keys()"
   ]
  },
  {
   "cell_type": "code",
   "execution_count": 59,
   "id": "7030f5f8",
   "metadata": {},
   "outputs": [
    {
     "data": {
      "text/plain": [
       "dict_values(['Rupee', 'USD', 'Yen', 'Euro', 'Euro', {'USD', 'Bitcoin'}])"
      ]
     },
     "execution_count": 59,
     "metadata": {},
     "output_type": "execute_result"
    }
   ],
   "source": [
    "currency.values()"
   ]
  },
  {
   "cell_type": "code",
   "execution_count": null,
   "id": "c0a3f8a4",
   "metadata": {},
   "outputs": [],
   "source": []
  },
  {
   "cell_type": "markdown",
   "id": "2b3bd26f",
   "metadata": {},
   "source": [
    "# check pelindrome"
   ]
  },
  {
   "cell_type": "code",
   "execution_count": 62,
   "id": "7273be9a",
   "metadata": {},
   "outputs": [],
   "source": [
    "def ispelindrome(s):\n",
    "    l=len(s)\n",
    "    for i in range(l):\n",
    "        if(s[i]!=s[l-i-1]):\n",
    "            return \"not pelindrome\"\n",
    "    return \"pelindrome\"    "
   ]
  },
  {
   "cell_type": "code",
   "execution_count": 64,
   "id": "fb1cc2ef",
   "metadata": {},
   "outputs": [
    {
     "data": {
      "text/plain": [
       "'not pelindrome'"
      ]
     },
     "execution_count": 64,
     "metadata": {},
     "output_type": "execute_result"
    }
   ],
   "source": [
    "ispelindrome(\"abcdba\")"
   ]
  },
  {
   "cell_type": "code",
   "execution_count": 65,
   "id": "d72ef552",
   "metadata": {},
   "outputs": [
    {
     "data": {
      "text/plain": [
       "'pelindrome'"
      ]
     },
     "execution_count": 65,
     "metadata": {},
     "output_type": "execute_result"
    }
   ],
   "source": [
    "ispelindrome(\"aaabbbbbaaa\")"
   ]
  },
  {
   "cell_type": "code",
   "execution_count": null,
   "id": "647362cc",
   "metadata": {},
   "outputs": [],
   "source": []
  },
  {
   "cell_type": "markdown",
   "id": "8223cf7a",
   "metadata": {},
   "source": [
    "# can be converted into pelindrome"
   ]
  },
  {
   "cell_type": "code",
   "execution_count": 97,
   "id": "77696394",
   "metadata": {},
   "outputs": [],
   "source": [
    "def pelindrome(s):\n",
    "    f={}\n",
    "    for char in s:\n",
    "        if(char in f):\n",
    "            f[char]+=1\n",
    "        else:\n",
    "            f[char]=1\n",
    "    print(f)\n",
    "    v=f.values()\n",
    "#     print(v)\n",
    "    count=0\n",
    "    for i in v:\n",
    "        if i%2==1:\n",
    "            count+=1\n",
    "            if(count==2):\n",
    "                return 0\n",
    "           \n",
    "    return 1\n",
    "            "
   ]
  },
  {
   "cell_type": "code",
   "execution_count": 98,
   "id": "3eb6110c",
   "metadata": {},
   "outputs": [
    {
     "name": "stdout",
     "output_type": "stream",
     "text": [
      "{'a': 3, 'b': 6}\n"
     ]
    },
    {
     "data": {
      "text/plain": [
       "1"
      ]
     },
     "execution_count": 98,
     "metadata": {},
     "output_type": "execute_result"
    }
   ],
   "source": [
    "pelindrome(\"aaabbbbbb\")"
   ]
  },
  {
   "cell_type": "code",
   "execution_count": 99,
   "id": "ea72f2aa",
   "metadata": {},
   "outputs": [
    {
     "name": "stdout",
     "output_type": "stream",
     "text": [
      "{'a': 3, 'b': 2, 'c': 2, 'd': 1}\n"
     ]
    },
    {
     "data": {
      "text/plain": [
       "0"
      ]
     },
     "execution_count": 99,
     "metadata": {},
     "output_type": "execute_result"
    }
   ],
   "source": [
    "pelindrome(\"aaabbccd\")"
   ]
  },
  {
   "cell_type": "code",
   "execution_count": 100,
   "id": "ae1f6139",
   "metadata": {},
   "outputs": [
    {
     "name": "stdout",
     "output_type": "stream",
     "text": [
      "{'a': 2, 'b': 2}\n"
     ]
    },
    {
     "data": {
      "text/plain": [
       "1"
      ]
     },
     "execution_count": 100,
     "metadata": {},
     "output_type": "execute_result"
    }
   ],
   "source": [
    "pelindrome(\"abab\")"
   ]
  },
  {
   "cell_type": "code",
   "execution_count": 101,
   "id": "8da2e192",
   "metadata": {},
   "outputs": [
    {
     "name": "stdout",
     "output_type": "stream",
     "text": [
      "{'a': 1, 'b': 1, 'c': 1}\n"
     ]
    },
    {
     "data": {
      "text/plain": [
       "0"
      ]
     },
     "execution_count": 101,
     "metadata": {},
     "output_type": "execute_result"
    }
   ],
   "source": [
    "pelindrome(\"abc\")"
   ]
  },
  {
   "cell_type": "code",
   "execution_count": 102,
   "id": "77f9e5d8",
   "metadata": {},
   "outputs": [
    {
     "name": "stdout",
     "output_type": "stream",
     "text": [
      "{'a': 1}\n"
     ]
    },
    {
     "data": {
      "text/plain": [
       "1"
      ]
     },
     "execution_count": 102,
     "metadata": {},
     "output_type": "execute_result"
    }
   ],
   "source": [
    "pelindrome(\"a\")"
   ]
  },
  {
   "cell_type": "code",
   "execution_count": 103,
   "id": "47a7baa4",
   "metadata": {},
   "outputs": [
    {
     "name": "stdout",
     "output_type": "stream",
     "text": [
      "{'a': 4, 'b': 4, 'c': 2, 't': 2, 'h': 3, 'e': 1}\n"
     ]
    },
    {
     "data": {
      "text/plain": [
       "0"
      ]
     },
     "execution_count": 103,
     "metadata": {},
     "output_type": "execute_result"
    }
   ],
   "source": [
    "pelindrome(\"abbbbaaacctthhhe\")"
   ]
  },
  {
   "cell_type": "code",
   "execution_count": null,
   "id": "b9297af1",
   "metadata": {},
   "outputs": [],
   "source": []
  },
  {
   "cell_type": "markdown",
   "id": "72965a4b",
   "metadata": {},
   "source": [
    "# 2D List"
   ]
  },
  {
   "cell_type": "code",
   "execution_count": 111,
   "id": "fda561ce",
   "metadata": {},
   "outputs": [],
   "source": [
    "l=[1,2,3,4,[6,7,5,4]]"
   ]
  },
  {
   "cell_type": "code",
   "execution_count": 113,
   "id": "1e12738e",
   "metadata": {},
   "outputs": [
    {
     "data": {
      "text/plain": [
       "[1, 2, 3, 4, [6, 7, 5, 4]]"
      ]
     },
     "execution_count": 113,
     "metadata": {},
     "output_type": "execute_result"
    }
   ],
   "source": [
    "l"
   ]
  },
  {
   "cell_type": "code",
   "execution_count": 114,
   "id": "b1164c1b",
   "metadata": {},
   "outputs": [],
   "source": [
    "l=[[1,2,3],[4,5,6],[6,7,8]]"
   ]
  },
  {
   "cell_type": "code",
   "execution_count": 115,
   "id": "6e2a9d5a",
   "metadata": {},
   "outputs": [
    {
     "data": {
      "text/plain": [
       "[[1, 2, 3], [4, 5, 6], [6, 7, 8]]"
      ]
     },
     "execution_count": 115,
     "metadata": {},
     "output_type": "execute_result"
    }
   ],
   "source": [
    "l"
   ]
  },
  {
   "cell_type": "code",
   "execution_count": null,
   "id": "0e0d9c55",
   "metadata": {},
   "outputs": [],
   "source": []
  },
  {
   "cell_type": "code",
   "execution_count": 116,
   "id": "bb1edee9",
   "metadata": {},
   "outputs": [
    {
     "name": "stdout",
     "output_type": "stream",
     "text": [
      "2 4\n"
     ]
    }
   ],
   "source": [
    "r,c=map(int, input().split())"
   ]
  },
  {
   "cell_type": "code",
   "execution_count": 125,
   "id": "65127dd5",
   "metadata": {},
   "outputs": [
    {
     "name": "stdout",
     "output_type": "stream",
     "text": [
      "1 2 \n",
      "1 2 3\n"
     ]
    }
   ],
   "source": [
    "a=[]\n",
    "for i in range(r):\n",
    "    row=list(map(int,input().split()))\n",
    "    a.append(row)"
   ]
  },
  {
   "cell_type": "code",
   "execution_count": 126,
   "id": "ecbd9938",
   "metadata": {},
   "outputs": [
    {
     "data": {
      "text/plain": [
       "[[1, 2], [1, 2, 3]]"
      ]
     },
     "execution_count": 126,
     "metadata": {},
     "output_type": "execute_result"
    }
   ],
   "source": [
    "a"
   ]
  },
  {
   "cell_type": "code",
   "execution_count": null,
   "id": "9b8281f8",
   "metadata": {},
   "outputs": [],
   "source": []
  },
  {
   "cell_type": "code",
   "execution_count": null,
   "id": "6534b7f4",
   "metadata": {},
   "outputs": [],
   "source": []
  }
 ],
 "metadata": {
  "kernelspec": {
   "display_name": "Python 3 (ipykernel)",
   "language": "python",
   "name": "python3"
  },
  "language_info": {
   "codemirror_mode": {
    "name": "ipython",
    "version": 3
   },
   "file_extension": ".py",
   "mimetype": "text/x-python",
   "name": "python",
   "nbconvert_exporter": "python",
   "pygments_lexer": "ipython3",
   "version": "3.9.7"
  }
 },
 "nbformat": 4,
 "nbformat_minor": 5
}
