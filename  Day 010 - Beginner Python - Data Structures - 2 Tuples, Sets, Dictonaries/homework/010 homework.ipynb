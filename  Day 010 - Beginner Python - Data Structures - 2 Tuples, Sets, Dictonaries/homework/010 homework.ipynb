{
 "cells": [
  {
   "cell_type": "markdown",
   "id": "4b7ad393",
   "metadata": {},
   "source": [
    "# 2 sum"
   ]
  },
  {
   "cell_type": "code",
   "execution_count": 28,
   "id": "41b73395",
   "metadata": {},
   "outputs": [],
   "source": [
    "def sum(l,t):\n",
    "    for i in range(len(l)):\n",
    "        for j in range(len(l)):\n",
    "            if l[i]+l[j]==t:\n",
    "                return i+1,j+1\n",
    "    return \"not found\"       "
   ]
  },
  {
   "cell_type": "code",
   "execution_count": 29,
   "id": "413d5bab",
   "metadata": {},
   "outputs": [
    {
     "data": {
      "text/plain": [
       "(1, 2)"
      ]
     },
     "execution_count": 29,
     "metadata": {},
     "output_type": "execute_result"
    }
   ],
   "source": [
    "sum([2, 7, 11, 15],9)"
   ]
  },
  {
   "cell_type": "code",
   "execution_count": 30,
   "id": "78b56734",
   "metadata": {},
   "outputs": [
    {
     "data": {
      "text/plain": [
       "'not found'"
      ]
     },
     "execution_count": 30,
     "metadata": {},
     "output_type": "execute_result"
    }
   ],
   "source": [
    "sum([4,5,2,9],100)"
   ]
  },
  {
   "cell_type": "code",
   "execution_count": null,
   "id": "8d5c7f55",
   "metadata": {},
   "outputs": [],
   "source": []
  },
  {
   "cell_type": "markdown",
   "id": "607568d2",
   "metadata": {},
   "source": [
    "# first-repeating-element"
   ]
  },
  {
   "cell_type": "code",
   "execution_count": 44,
   "id": "fca89c2a",
   "metadata": {},
   "outputs": [],
   "source": [
    "def firstRepeating(l):\n",
    "    \n",
    "    for i in l:\n",
    "        count=0\n",
    "        for j in l:\n",
    "            if i==j:\n",
    "                count+=1\n",
    "                if(count==2):\n",
    "                    return i\n",
    "    return -1    "
   ]
  },
  {
   "cell_type": "code",
   "execution_count": 45,
   "id": "0650aebc",
   "metadata": {},
   "outputs": [
    {
     "data": {
      "text/plain": [
       "5"
      ]
     },
     "execution_count": 45,
     "metadata": {},
     "output_type": "execute_result"
    }
   ],
   "source": [
    "firstRepeating([10, 5, 3, 4, 3, 5, 6])"
   ]
  },
  {
   "cell_type": "code",
   "execution_count": 46,
   "id": "6de47d15",
   "metadata": {},
   "outputs": [
    {
     "data": {
      "text/plain": [
       "-1"
      ]
     },
     "execution_count": 46,
     "metadata": {},
     "output_type": "execute_result"
    }
   ],
   "source": [
    "firstRepeating([1,6,7,9,10,2])"
   ]
  },
  {
   "cell_type": "code",
   "execution_count": 47,
   "id": "d908ce6f",
   "metadata": {},
   "outputs": [
    {
     "data": {
      "text/plain": [
       "9"
      ]
     },
     "execution_count": 47,
     "metadata": {},
     "output_type": "execute_result"
    }
   ],
   "source": [
    "firstRepeating([1,6,7,9,10,2,9,2,4,5,9,10])"
   ]
  },
  {
   "cell_type": "code",
   "execution_count": null,
   "id": "8cc5eacc",
   "metadata": {},
   "outputs": [],
   "source": []
  }
 ],
 "metadata": {
  "kernelspec": {
   "display_name": "Python 3 (ipykernel)",
   "language": "python",
   "name": "python3"
  },
  "language_info": {
   "codemirror_mode": {
    "name": "ipython",
    "version": 3
   },
   "file_extension": ".py",
   "mimetype": "text/x-python",
   "name": "python",
   "nbconvert_exporter": "python",
   "pygments_lexer": "ipython3",
   "version": "3.9.7"
  }
 },
 "nbformat": 4,
 "nbformat_minor": 5
}
