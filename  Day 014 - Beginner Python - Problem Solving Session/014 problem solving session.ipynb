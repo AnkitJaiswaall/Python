{
 "cells": [
  {
   "cell_type": "markdown",
   "id": "ecbb0f5a",
   "metadata": {},
   "source": [
    "# 2-sum-with-O(n)-time-complexity"
   ]
  },
  {
   "cell_type": "code",
   "execution_count": 1,
   "id": "c021b9f4",
   "metadata": {},
   "outputs": [],
   "source": [
    "def twoSum(a,b):\n",
    "    num_to_index={}\n",
    "    for i in range(len(a)):\n",
    "        required=b-a[i]\n",
    "        \n",
    "        if required in num_to_index:\n",
    "            return num_to_index[required]+1, i+1\n",
    "        \n",
    "        if a[i] not in num_to_index:\n",
    "            num_to_index[a[i]]=i"
   ]
  },
  {
   "cell_type": "code",
   "execution_count": 3,
   "id": "b655e74a",
   "metadata": {},
   "outputs": [
    {
     "data": {
      "text/plain": [
       "(2, 7)"
      ]
     },
     "execution_count": 3,
     "metadata": {},
     "output_type": "execute_result"
    }
   ],
   "source": [
    "twoSum([2,5,7,5,4,1,8],13)"
   ]
  },
  {
   "cell_type": "code",
   "execution_count": null,
   "id": "0c812485",
   "metadata": {},
   "outputs": [],
   "source": []
  },
  {
   "cell_type": "markdown",
   "id": "4cc0ec09",
   "metadata": {},
   "source": [
    "# maximum-absolute-difference"
   ]
  },
  {
   "cell_type": "code",
   "execution_count": 4,
   "id": "ebb8e03f",
   "metadata": {},
   "outputs": [],
   "source": [
    "def maxDiff(A):\n",
    "    inf=float('inf')\n",
    "    a=-inf\n",
    "    b=inf\n",
    "    c=-inf\n",
    "    d=inf\n",
    "    \n",
    "    for i in range(len(A)):\n",
    "        x=A[i]\n",
    "        \n",
    "        a=max(a,x+i)\n",
    "        b=min(b,x+i)\n",
    "        \n",
    "        c=max(c,x-i)\n",
    "        d=min(d,x-i)\n",
    "        \n",
    "    ans=max(a-b,c-d)\n",
    "    return ans    "
   ]
  },
  {
   "cell_type": "code",
   "execution_count": 5,
   "id": "05b5d98a",
   "metadata": {},
   "outputs": [
    {
     "data": {
      "text/plain": [
       "5"
      ]
     },
     "execution_count": 5,
     "metadata": {},
     "output_type": "execute_result"
    }
   ],
   "source": [
    "maxDiff([1,3,-1])"
   ]
  },
  {
   "cell_type": "code",
   "execution_count": null,
   "id": "fd43753c",
   "metadata": {},
   "outputs": [],
   "source": []
  },
  {
   "cell_type": "markdown",
   "id": "7cad304f",
   "metadata": {},
   "source": [
    "# fisrt-missing-positive-integer-with-O(n)-time-complexity"
   ]
  },
  {
   "cell_type": "code",
   "execution_count": 19,
   "id": "77e40728",
   "metadata": {},
   "outputs": [],
   "source": [
    "def firstMissing(A):\n",
    "    num_set = set(A)\n",
    "    for i in range(1, len(A) + 2):\n",
    "        if i not in num_set:\n",
    "            return i"
   ]
  },
  {
   "cell_type": "code",
   "execution_count": 20,
   "id": "222aaf55",
   "metadata": {},
   "outputs": [
    {
     "data": {
      "text/plain": [
       "3"
      ]
     },
     "execution_count": 20,
     "metadata": {},
     "output_type": "execute_result"
    }
   ],
   "source": [
    "firstMissing([1,2,0])"
   ]
  },
  {
   "cell_type": "code",
   "execution_count": 21,
   "id": "564433f9",
   "metadata": {},
   "outputs": [
    {
     "data": {
      "text/plain": [
       "1"
      ]
     },
     "execution_count": 21,
     "metadata": {},
     "output_type": "execute_result"
    }
   ],
   "source": [
    "firstMissing([-8, -7, -6])"
   ]
  },
  {
   "cell_type": "code",
   "execution_count": 22,
   "id": "aaefdd61",
   "metadata": {},
   "outputs": [
    {
     "data": {
      "text/plain": [
       "2"
      ]
     },
     "execution_count": 22,
     "metadata": {},
     "output_type": "execute_result"
    }
   ],
   "source": [
    "firstMissing([3, 4, -1, 1])"
   ]
  },
  {
   "cell_type": "code",
   "execution_count": null,
   "id": "3d767680",
   "metadata": {},
   "outputs": [],
   "source": []
  }
 ],
 "metadata": {
  "kernelspec": {
   "display_name": "Python 3 (ipykernel)",
   "language": "python",
   "name": "python3"
  },
  "language_info": {
   "codemirror_mode": {
    "name": "ipython",
    "version": 3
   },
   "file_extension": ".py",
   "mimetype": "text/x-python",
   "name": "python",
   "nbconvert_exporter": "python",
   "pygments_lexer": "ipython3",
   "version": "3.9.7"
  }
 },
 "nbformat": 4,
 "nbformat_minor": 5
}
