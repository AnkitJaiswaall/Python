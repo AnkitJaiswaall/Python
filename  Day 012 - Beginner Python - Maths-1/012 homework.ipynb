{
 "cells": [
  {
   "cell_type": "markdown",
   "id": "01f465b3",
   "metadata": {},
   "source": [
    "# nth fibonacci"
   ]
  },
  {
   "cell_type": "code",
   "execution_count": 24,
   "id": "5d4bdc8a",
   "metadata": {},
   "outputs": [],
   "source": [
    "\n",
    "def fib(n):\n",
    "        if n<=1:\n",
    "            return n\n",
    "        else:\n",
    "            return fib(n-1)+fib(n-2)"
   ]
  },
  {
   "cell_type": "code",
   "execution_count": 25,
   "id": "6cb0b569",
   "metadata": {},
   "outputs": [
    {
     "data": {
      "text/plain": [
       "3"
      ]
     },
     "execution_count": 25,
     "metadata": {},
     "output_type": "execute_result"
    }
   ],
   "source": [
    "fib(4)"
   ]
  },
  {
   "cell_type": "code",
   "execution_count": 26,
   "id": "b5484c59",
   "metadata": {},
   "outputs": [
    {
     "data": {
      "text/plain": [
       "2"
      ]
     },
     "execution_count": 26,
     "metadata": {},
     "output_type": "execute_result"
    }
   ],
   "source": [
    "fib(3)"
   ]
  },
  {
   "cell_type": "code",
   "execution_count": null,
   "id": "6933acda",
   "metadata": {},
   "outputs": [],
   "source": []
  },
  {
   "cell_type": "markdown",
   "id": "40adc7ca",
   "metadata": {},
   "source": [
    "# nth-magic-number"
   ]
  },
  {
   "cell_type": "code",
   "execution_count": 6,
   "id": "d36905ad",
   "metadata": {},
   "outputs": [],
   "source": [
    "def magic_number(n):\n",
    "    a=0\n",
    "    p=5\n",
    "    while n>0:\n",
    "        r=n%2\n",
    "        n=n//2\n",
    "        a+=(r*p)\n",
    "        p*=5\n",
    "    return a"
   ]
  },
  {
   "cell_type": "code",
   "execution_count": 7,
   "id": "1f4e0336",
   "metadata": {},
   "outputs": [
    {
     "data": {
      "text/plain": [
       "650"
      ]
     },
     "execution_count": 7,
     "metadata": {},
     "output_type": "execute_result"
    }
   ],
   "source": [
    "magic_number(10)"
   ]
  },
  {
   "cell_type": "code",
   "execution_count": null,
   "id": "0ad11117",
   "metadata": {},
   "outputs": [],
   "source": []
  },
  {
   "cell_type": "markdown",
   "id": "508ea9ab",
   "metadata": {},
   "source": [
    "# roots-of-quardratic-equation"
   ]
  },
  {
   "cell_type": "code",
   "execution_count": 8,
   "id": "f5ef266b",
   "metadata": {},
   "outputs": [],
   "source": [
    "def roots(a,b,c):\n",
    "    d=b**2-4*a*c\n",
    "    if d>0:\n",
    "        return 1\n",
    "    elif d==0:\n",
    "        return 0\n",
    "    elif d<=-1:\n",
    "        return -1"
   ]
  },
  {
   "cell_type": "code",
   "execution_count": 9,
   "id": "6382a67a",
   "metadata": {},
   "outputs": [
    {
     "data": {
      "text/plain": [
       "1"
      ]
     },
     "execution_count": 9,
     "metadata": {},
     "output_type": "execute_result"
    }
   ],
   "source": [
    "roots(8,-4,-2)"
   ]
  },
  {
   "cell_type": "code",
   "execution_count": 10,
   "id": "f6f4f624",
   "metadata": {},
   "outputs": [
    {
     "data": {
      "text/plain": [
       "-1"
      ]
     },
     "execution_count": 10,
     "metadata": {},
     "output_type": "execute_result"
    }
   ],
   "source": [
    "roots(3,1,2)"
   ]
  },
  {
   "cell_type": "code",
   "execution_count": 12,
   "id": "a827297e",
   "metadata": {},
   "outputs": [
    {
     "data": {
      "text/plain": [
       "0"
      ]
     },
     "execution_count": 12,
     "metadata": {},
     "output_type": "execute_result"
    }
   ],
   "source": [
    "roots(1,2,1)"
   ]
  },
  {
   "cell_type": "code",
   "execution_count": null,
   "id": "89e7ba4c",
   "metadata": {},
   "outputs": [],
   "source": []
  }
 ],
 "metadata": {
  "kernelspec": {
   "display_name": "Python 3 (ipykernel)",
   "language": "python",
   "name": "python3"
  },
  "language_info": {
   "codemirror_mode": {
    "name": "ipython",
    "version": 3
   },
   "file_extension": ".py",
   "mimetype": "text/x-python",
   "name": "python",
   "nbconvert_exporter": "python",
   "pygments_lexer": "ipython3",
   "version": "3.9.7"
  }
 },
 "nbformat": 4,
 "nbformat_minor": 5
}
